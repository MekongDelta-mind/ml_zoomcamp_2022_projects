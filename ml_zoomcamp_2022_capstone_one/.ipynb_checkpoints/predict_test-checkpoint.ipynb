{
 "cells": [
  {
   "cell_type": "code",
   "execution_count": 12,
   "metadata": {},
   "outputs": [],
   "source": [
    "import requests"
   ]
  },
  {
   "cell_type": "code",
   "execution_count": 13,
   "metadata": {},
   "outputs": [],
   "source": [
    "bidding = {'Auction_ID': 2185,\n",
    "  'Bidder_Tendency': 0.045454545,\n",
    "  'Bidding_Ratio': 0.025641026,\n",
    "  'Successive_Outbidding': 0.0,\n",
    "  'Last_Bidding': 0.0040856481,\n",
    "  'Auction_Bids': 0.538461538,\n",
    "  'Starting_Price_Average': 0.99935281,\n",
    "  'Early_Bidding': 0.0040856481,\n",
    "  'Winning_Ratio': 0.0,\n",
    "  'Auction_Duration': 5}\n",
    "\n",
    "auction_Id = test_bidding['Auction_ID']\n",
    "bidder_ID = 'm***t' # from the dataset at df_train.iloc[1534]"
   ]
  },
  {
   "cell_type": "code",
   "execution_count": 25,
   "metadata": {},
   "outputs": [],
   "source": [
    "url = 'http://localhost:9696/predict'"
   ]
  },
  {
   "cell_type": "code",
   "execution_count": 26,
   "metadata": {},
   "outputs": [
    {
     "name": "stdout",
     "output_type": "stream",
     "text": [
      "{'fraud_or_not': 'No', 'fraud_probability': 0.0020708928277582295}\n"
     ]
    }
   ],
   "source": [
    "response = requests.post(url, json=bidding).json()\n",
    "print(response)"
   ]
  },
  {
   "cell_type": "code",
   "execution_count": 27,
   "metadata": {},
   "outputs": [
    {
     "name": "stdout",
     "output_type": "stream",
     "text": [
      "The bidding with the auciton_id: 2185 and bidding_id: m***t is fair bidding. Thanks for behaving !!!\n"
     ]
    }
   ],
   "source": [
    "if response['fraud_or_not']=='Yes':\n",
    "    print(f' The bidding with the auciton_id: {auction_Id} and bidding_id: {bidder_ID} is a fraud bidding and should be discarded ')\n",
    "else:\n",
    "    print(f'The bidding with the auciton_id: {auction_Id} and bidding_id: {bidder_ID} is fair bidding. Thanks for behaving !!!')"
   ]
  },
  {
   "cell_type": "code",
   "execution_count": null,
   "metadata": {},
   "outputs": [],
   "source": []
  }
 ],
 "metadata": {
  "kernelspec": {
   "display_name": "ml_zoomcamp_2022_capstone_one",
   "language": "python",
   "name": "ml_zoomcamp_2022_capstone_one"
  },
  "language_info": {
   "codemirror_mode": {
    "name": "ipython",
    "version": 3
   },
   "file_extension": ".py",
   "mimetype": "text/x-python",
   "name": "python",
   "nbconvert_exporter": "python",
   "pygments_lexer": "ipython3",
   "version": "3.9.13"
  },
  "vscode": {
   "interpreter": {
    "hash": "916dbcbb3f70747c44a77c7bcd40155683ae19c65e1c03b4aa3499c5328201f1"
   }
  }
 },
 "nbformat": 4,
 "nbformat_minor": 4
}
