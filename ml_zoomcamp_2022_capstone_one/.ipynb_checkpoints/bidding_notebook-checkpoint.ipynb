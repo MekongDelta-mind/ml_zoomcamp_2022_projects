{
 "cells": [
  {
   "cell_type": "markdown",
   "id": "316c321e-5537-4385-a21c-9ad24471fd01",
   "metadata": {},
   "source": [
    "Link to check the requirements for the projects:\n",
    "https://github.com/MekongDelta-mind/mlbookcamp-code/tree/master/course-zoomcamp/projects\n",
    "\n",
    "The project will be evaluated using these criteria:\n",
    "\n",
    "* Problem description\n",
    "* EDA\n",
    "* Model training\n",
    "* Exporting notebook to script\n",
    "* Model deployment\n",
    "* Reproducibility\n",
    "* Dependency and environment management\n",
    "* Containerization\n",
    "* Cloud deployment\n"
   ]
  },
  {
   "cell_type": "markdown",
   "id": "06d3d9c5-c3cd-4a64-b574-115cbcc51a73",
   "metadata": {},
   "source": [
    "# Problem Description"
   ]
  },
  {
   "cell_type": "markdown",
   "id": "fa420552-9341-4e6b-8fc5-8951871d3d75",
   "metadata": {},
   "source": []
  },
  {
   "cell_type": "markdown",
   "id": "3583b252-07a1-44b4-b6fa-0fe93c6950f6",
   "metadata": {},
   "source": []
  },
  {
   "cell_type": "code",
   "execution_count": null,
   "id": "7bdbef77-6621-4fdf-8d76-b8963e517951",
   "metadata": {},
   "outputs": [],
   "source": []
  },
  {
   "cell_type": "code",
   "execution_count": null,
   "id": "51cf2130-d4eb-4197-b7dc-9fb6f0f3d7a4",
   "metadata": {},
   "outputs": [],
   "source": []
  },
  {
   "cell_type": "markdown",
   "id": "86aa1e99-968c-4fb4-85a1-258cb3946dd7",
   "metadata": {},
   "source": [
    "# Downloading the Data"
   ]
  },
  {
   "cell_type": "code",
   "execution_count": 44,
   "id": "f9cfb145-5036-445f-840a-46ee3142217a",
   "metadata": {},
   "outputs": [],
   "source": [
    "import pandas as pd\n",
    "import numpy as np\n",
    "\n",
    "import seaborn as sns\n",
    "from matplotlib import pyplot as plt\n",
    "%matplotlib inline"
   ]
  },
  {
   "cell_type": "markdown",
   "id": "17a77c57-6689-4468-a741-ce0a4eadf02c",
   "metadata": {},
   "source": [
    "Source : https://archive.ics.uci.edu/ml/machine-learning-databases/00562/Shill%20Bidding%20Dataset.csv"
   ]
  },
  {
   "cell_type": "code",
   "execution_count": 45,
   "id": "02fbfef8-281d-4df4-b1a5-867dd4ed86b4",
   "metadata": {},
   "outputs": [
    {
     "name": "stdout",
     "output_type": "stream",
     "text": [
      "--2022-12-17 22:55:36--  https://archive.ics.uci.edu/ml/machine-learning-databases/00562/Shill%20Bidding%20Dataset.csv\n",
      "Resolving archive.ics.uci.edu (archive.ics.uci.edu)... 128.195.10.252\n",
      "Connecting to archive.ics.uci.edu (archive.ics.uci.edu)|128.195.10.252|:443... connected.\n",
      "HTTP request sent, awaiting response... 200 OK\n",
      "Length: 550270 (537K) [application/x-httpd-php]\n",
      "Saving to: ‘Shill Bidding Dataset.csv.1’\n",
      "\n",
      "Shill Bidding Datas 100%[===================>] 537.37K   218KB/s    in 2.5s    \n",
      "\n",
      "2022-12-17 22:55:40 (218 KB/s) - ‘Shill Bidding Dataset.csv.1’ saved [550270/550270]\n",
      "\n"
     ]
    }
   ],
   "source": [
    "!wget https://archive.ics.uci.edu/ml/machine-learning-databases/00562/Shill%20Bidding%20Dataset.csv"
   ]
  },
  {
   "cell_type": "markdown",
   "id": "9e0700ab-7a03-40bd-bb19-c6d7a8406ddd",
   "metadata": {},
   "source": [
    "# Data preparation and data clearning"
   ]
  },
  {
   "cell_type": "markdown",
   "id": "775263f4-2366-494e-9f4b-97c6db5dc3d4",
   "metadata": {},
   "source": [
    "Attribute Information:\n",
    "\n",
    "* Record ID: Unique identifier of a record in the dataset.\n",
    "* Auction ID: Unique identifier of an auction.\n",
    "* Bidder ID: Unique identifier of a bidder.\n",
    "* Bidder Tendency: A shill bidder participates exclusively in auctions of few sellers rather than a diversified lot. This is a collusive act involving the fraudulent seller and an accomplice.\n",
    "* Bidding Ratio: A shill bidder participates more frequently to raise the auction price and attract higher bids from legitimate participants.\n",
    "* Successive Outbidding: A shill bidder successively outbids himself even though he is the current winner to increase the price gradually with small consecutive increments.\n",
    "* Last Bidding: A shill bidder becomes inactive at the last stage of the auction (more than 90\\% of the auction duration) to avoid winning the auction.\n",
    "* Auction Bids: Auctions with SB activities tend to have a much higher number of bids than the average of bids in concurrent auctions.\n",
    "* Auction Starting Price: a shill bidder usually offers a small starting price to attract legitimate bidders into the auction.\n",
    "* Early Bidding: A shill bidder tends to bid pretty early in the auction (less than 25\\% of the auction duration) to get the attention of auction users.\n",
    "* Winning Ratio: A shill bidder competes in many auctions but hardly wins any auctions.\n",
    "* Auction Duration: How long an auction lasted.\n",
    "* Class: 0 for normal behaviour bidding( non-fraud ); 1 for otherwise ( fraud ). "
   ]
  },
  {
   "cell_type": "code",
   "execution_count": 46,
   "id": "f2ada1cf-ba23-4827-b109-2ce981c9237e",
   "metadata": {},
   "outputs": [],
   "source": [
    "df = pd.read_csv('Shill Bidding Dataset.csv')"
   ]
  },
  {
   "cell_type": "code",
   "execution_count": 47,
   "id": "9158f72a-cd99-450a-8716-806cee257703",
   "metadata": {},
   "outputs": [
    {
     "data": {
      "text/html": [
       "<div>\n",
       "<style scoped>\n",
       "    .dataframe tbody tr th:only-of-type {\n",
       "        vertical-align: middle;\n",
       "    }\n",
       "\n",
       "    .dataframe tbody tr th {\n",
       "        vertical-align: top;\n",
       "    }\n",
       "\n",
       "    .dataframe thead th {\n",
       "        text-align: right;\n",
       "    }\n",
       "</style>\n",
       "<table border=\"1\" class=\"dataframe\">\n",
       "  <thead>\n",
       "    <tr style=\"text-align: right;\">\n",
       "      <th></th>\n",
       "      <th>Record_ID</th>\n",
       "      <th>Auction_ID</th>\n",
       "      <th>Bidder_ID</th>\n",
       "      <th>Bidder_Tendency</th>\n",
       "      <th>Bidding_Ratio</th>\n",
       "      <th>Successive_Outbidding</th>\n",
       "      <th>Last_Bidding</th>\n",
       "      <th>Auction_Bids</th>\n",
       "      <th>Starting_Price_Average</th>\n",
       "      <th>Early_Bidding</th>\n",
       "      <th>Winning_Ratio</th>\n",
       "      <th>Auction_Duration</th>\n",
       "      <th>Class</th>\n",
       "    </tr>\n",
       "  </thead>\n",
       "  <tbody>\n",
       "    <tr>\n",
       "      <th>0</th>\n",
       "      <td>1</td>\n",
       "      <td>732</td>\n",
       "      <td>_***i</td>\n",
       "      <td>0.200000</td>\n",
       "      <td>0.400000</td>\n",
       "      <td>0.0</td>\n",
       "      <td>0.000028</td>\n",
       "      <td>0.0</td>\n",
       "      <td>0.993593</td>\n",
       "      <td>0.000028</td>\n",
       "      <td>0.666667</td>\n",
       "      <td>5</td>\n",
       "      <td>0</td>\n",
       "    </tr>\n",
       "    <tr>\n",
       "      <th>1</th>\n",
       "      <td>2</td>\n",
       "      <td>732</td>\n",
       "      <td>g***r</td>\n",
       "      <td>0.024390</td>\n",
       "      <td>0.200000</td>\n",
       "      <td>0.0</td>\n",
       "      <td>0.013123</td>\n",
       "      <td>0.0</td>\n",
       "      <td>0.993593</td>\n",
       "      <td>0.013123</td>\n",
       "      <td>0.944444</td>\n",
       "      <td>5</td>\n",
       "      <td>0</td>\n",
       "    </tr>\n",
       "    <tr>\n",
       "      <th>2</th>\n",
       "      <td>3</td>\n",
       "      <td>732</td>\n",
       "      <td>t***p</td>\n",
       "      <td>0.142857</td>\n",
       "      <td>0.200000</td>\n",
       "      <td>0.0</td>\n",
       "      <td>0.003042</td>\n",
       "      <td>0.0</td>\n",
       "      <td>0.993593</td>\n",
       "      <td>0.003042</td>\n",
       "      <td>1.000000</td>\n",
       "      <td>5</td>\n",
       "      <td>0</td>\n",
       "    </tr>\n",
       "    <tr>\n",
       "      <th>3</th>\n",
       "      <td>4</td>\n",
       "      <td>732</td>\n",
       "      <td>7***n</td>\n",
       "      <td>0.100000</td>\n",
       "      <td>0.200000</td>\n",
       "      <td>0.0</td>\n",
       "      <td>0.097477</td>\n",
       "      <td>0.0</td>\n",
       "      <td>0.993593</td>\n",
       "      <td>0.097477</td>\n",
       "      <td>1.000000</td>\n",
       "      <td>5</td>\n",
       "      <td>0</td>\n",
       "    </tr>\n",
       "    <tr>\n",
       "      <th>4</th>\n",
       "      <td>5</td>\n",
       "      <td>900</td>\n",
       "      <td>z***z</td>\n",
       "      <td>0.051282</td>\n",
       "      <td>0.222222</td>\n",
       "      <td>0.0</td>\n",
       "      <td>0.001318</td>\n",
       "      <td>0.0</td>\n",
       "      <td>0.000000</td>\n",
       "      <td>0.001242</td>\n",
       "      <td>0.500000</td>\n",
       "      <td>7</td>\n",
       "      <td>0</td>\n",
       "    </tr>\n",
       "  </tbody>\n",
       "</table>\n",
       "</div>"
      ],
      "text/plain": [
       "   Record_ID  Auction_ID Bidder_ID  Bidder_Tendency  Bidding_Ratio  \\\n",
       "0          1         732     _***i         0.200000       0.400000   \n",
       "1          2         732     g***r         0.024390       0.200000   \n",
       "2          3         732     t***p         0.142857       0.200000   \n",
       "3          4         732     7***n         0.100000       0.200000   \n",
       "4          5         900     z***z         0.051282       0.222222   \n",
       "\n",
       "   Successive_Outbidding  Last_Bidding  Auction_Bids  Starting_Price_Average  \\\n",
       "0                    0.0      0.000028           0.0                0.993593   \n",
       "1                    0.0      0.013123           0.0                0.993593   \n",
       "2                    0.0      0.003042           0.0                0.993593   \n",
       "3                    0.0      0.097477           0.0                0.993593   \n",
       "4                    0.0      0.001318           0.0                0.000000   \n",
       "\n",
       "   Early_Bidding  Winning_Ratio  Auction_Duration  Class  \n",
       "0       0.000028       0.666667                 5      0  \n",
       "1       0.013123       0.944444                 5      0  \n",
       "2       0.003042       1.000000                 5      0  \n",
       "3       0.097477       1.000000                 5      0  \n",
       "4       0.001242       0.500000                 7      0  "
      ]
     },
     "execution_count": 47,
     "metadata": {},
     "output_type": "execute_result"
    }
   ],
   "source": [
    "df.head()"
   ]
  },
  {
   "cell_type": "code",
   "execution_count": 48,
   "id": "84fe9295-f826-4364-964b-58c3b12bed03",
   "metadata": {},
   "outputs": [
    {
     "data": {
      "text/html": [
       "<div>\n",
       "<style scoped>\n",
       "    .dataframe tbody tr th:only-of-type {\n",
       "        vertical-align: middle;\n",
       "    }\n",
       "\n",
       "    .dataframe tbody tr th {\n",
       "        vertical-align: top;\n",
       "    }\n",
       "\n",
       "    .dataframe thead th {\n",
       "        text-align: right;\n",
       "    }\n",
       "</style>\n",
       "<table border=\"1\" class=\"dataframe\">\n",
       "  <thead>\n",
       "    <tr style=\"text-align: right;\">\n",
       "      <th></th>\n",
       "      <th>0</th>\n",
       "      <th>1</th>\n",
       "      <th>2</th>\n",
       "      <th>3</th>\n",
       "      <th>4</th>\n",
       "    </tr>\n",
       "  </thead>\n",
       "  <tbody>\n",
       "    <tr>\n",
       "      <th>Record_ID</th>\n",
       "      <td>1</td>\n",
       "      <td>2</td>\n",
       "      <td>3</td>\n",
       "      <td>4</td>\n",
       "      <td>5</td>\n",
       "    </tr>\n",
       "    <tr>\n",
       "      <th>Auction_ID</th>\n",
       "      <td>732</td>\n",
       "      <td>732</td>\n",
       "      <td>732</td>\n",
       "      <td>732</td>\n",
       "      <td>900</td>\n",
       "    </tr>\n",
       "    <tr>\n",
       "      <th>Bidder_ID</th>\n",
       "      <td>_***i</td>\n",
       "      <td>g***r</td>\n",
       "      <td>t***p</td>\n",
       "      <td>7***n</td>\n",
       "      <td>z***z</td>\n",
       "    </tr>\n",
       "    <tr>\n",
       "      <th>Bidder_Tendency</th>\n",
       "      <td>0.2</td>\n",
       "      <td>0.02439</td>\n",
       "      <td>0.142857</td>\n",
       "      <td>0.1</td>\n",
       "      <td>0.051282</td>\n",
       "    </tr>\n",
       "    <tr>\n",
       "      <th>Bidding_Ratio</th>\n",
       "      <td>0.4</td>\n",
       "      <td>0.2</td>\n",
       "      <td>0.2</td>\n",
       "      <td>0.2</td>\n",
       "      <td>0.222222</td>\n",
       "    </tr>\n",
       "    <tr>\n",
       "      <th>Successive_Outbidding</th>\n",
       "      <td>0.0</td>\n",
       "      <td>0.0</td>\n",
       "      <td>0.0</td>\n",
       "      <td>0.0</td>\n",
       "      <td>0.0</td>\n",
       "    </tr>\n",
       "    <tr>\n",
       "      <th>Last_Bidding</th>\n",
       "      <td>0.000028</td>\n",
       "      <td>0.013123</td>\n",
       "      <td>0.003042</td>\n",
       "      <td>0.097477</td>\n",
       "      <td>0.001318</td>\n",
       "    </tr>\n",
       "    <tr>\n",
       "      <th>Auction_Bids</th>\n",
       "      <td>0.0</td>\n",
       "      <td>0.0</td>\n",
       "      <td>0.0</td>\n",
       "      <td>0.0</td>\n",
       "      <td>0.0</td>\n",
       "    </tr>\n",
       "    <tr>\n",
       "      <th>Starting_Price_Average</th>\n",
       "      <td>0.993593</td>\n",
       "      <td>0.993593</td>\n",
       "      <td>0.993593</td>\n",
       "      <td>0.993593</td>\n",
       "      <td>0.0</td>\n",
       "    </tr>\n",
       "    <tr>\n",
       "      <th>Early_Bidding</th>\n",
       "      <td>0.000028</td>\n",
       "      <td>0.013123</td>\n",
       "      <td>0.003042</td>\n",
       "      <td>0.097477</td>\n",
       "      <td>0.001242</td>\n",
       "    </tr>\n",
       "    <tr>\n",
       "      <th>Winning_Ratio</th>\n",
       "      <td>0.666667</td>\n",
       "      <td>0.944444</td>\n",
       "      <td>1.0</td>\n",
       "      <td>1.0</td>\n",
       "      <td>0.5</td>\n",
       "    </tr>\n",
       "    <tr>\n",
       "      <th>Auction_Duration</th>\n",
       "      <td>5</td>\n",
       "      <td>5</td>\n",
       "      <td>5</td>\n",
       "      <td>5</td>\n",
       "      <td>7</td>\n",
       "    </tr>\n",
       "    <tr>\n",
       "      <th>Class</th>\n",
       "      <td>0</td>\n",
       "      <td>0</td>\n",
       "      <td>0</td>\n",
       "      <td>0</td>\n",
       "      <td>0</td>\n",
       "    </tr>\n",
       "  </tbody>\n",
       "</table>\n",
       "</div>"
      ],
      "text/plain": [
       "                               0         1         2         3         4\n",
       "Record_ID                      1         2         3         4         5\n",
       "Auction_ID                   732       732       732       732       900\n",
       "Bidder_ID                  _***i     g***r     t***p     7***n     z***z\n",
       "Bidder_Tendency              0.2   0.02439  0.142857       0.1  0.051282\n",
       "Bidding_Ratio                0.4       0.2       0.2       0.2  0.222222\n",
       "Successive_Outbidding        0.0       0.0       0.0       0.0       0.0\n",
       "Last_Bidding            0.000028  0.013123  0.003042  0.097477  0.001318\n",
       "Auction_Bids                 0.0       0.0       0.0       0.0       0.0\n",
       "Starting_Price_Average  0.993593  0.993593  0.993593  0.993593       0.0\n",
       "Early_Bidding           0.000028  0.013123  0.003042  0.097477  0.001242\n",
       "Winning_Ratio           0.666667  0.944444       1.0       1.0       0.5\n",
       "Auction_Duration               5         5         5         5         7\n",
       "Class                          0         0         0         0         0"
      ]
     },
     "execution_count": 48,
     "metadata": {},
     "output_type": "execute_result"
    }
   ],
   "source": [
    "df.head().T"
   ]
  },
  {
   "cell_type": "code",
   "execution_count": 49,
   "id": "37f62cb2-e837-4224-ba81-dfcb6f889555",
   "metadata": {},
   "outputs": [
    {
     "data": {
      "text/plain": [
       "Record_ID                   int64\n",
       "Auction_ID                  int64\n",
       "Bidder_ID                  object\n",
       "Bidder_Tendency           float64\n",
       "Bidding_Ratio             float64\n",
       "Successive_Outbidding     float64\n",
       "Last_Bidding              float64\n",
       "Auction_Bids              float64\n",
       "Starting_Price_Average    float64\n",
       "Early_Bidding             float64\n",
       "Winning_Ratio             float64\n",
       "Auction_Duration            int64\n",
       "Class                       int64\n",
       "dtype: object"
      ]
     },
     "execution_count": 49,
     "metadata": {},
     "output_type": "execute_result"
    }
   ],
   "source": [
    "df.dtypes"
   ]
  },
  {
   "cell_type": "markdown",
   "id": "a0dbf65d-d15e-43af-8ffd-a6f999541d18",
   "metadata": {},
   "source": [
    "There are no string values in teh whole dataset"
   ]
  },
  {
   "cell_type": "code",
   "execution_count": null,
   "id": "acdb0995-77ca-46b4-99a4-5a0ba18f8715",
   "metadata": {},
   "outputs": [],
   "source": []
  },
  {
   "cell_type": "code",
   "execution_count": null,
   "id": "2cb17497-a592-48e3-8b4b-f46f946bee16",
   "metadata": {},
   "outputs": [],
   "source": []
  },
  {
   "cell_type": "code",
   "execution_count": null,
   "id": "96942d18-48d6-45ae-8db2-00d7fb100848",
   "metadata": {},
   "outputs": [],
   "source": []
  },
  {
   "cell_type": "markdown",
   "id": "265a3132-dbcd-4535-9613-35f614d31435",
   "metadata": {},
   "source": [
    "# EDA, feature importance analysis"
   ]
  },
  {
   "cell_type": "code",
   "execution_count": 50,
   "id": "e9b2c04b-3d6e-46e4-a4d4-40ae949d2213",
   "metadata": {},
   "outputs": [
    {
     "data": {
      "text/plain": [
       "Record_ID                 0\n",
       "Auction_ID                0\n",
       "Bidder_ID                 0\n",
       "Bidder_Tendency           0\n",
       "Bidding_Ratio             0\n",
       "Successive_Outbidding     0\n",
       "Last_Bidding              0\n",
       "Auction_Bids              0\n",
       "Starting_Price_Average    0\n",
       "Early_Bidding             0\n",
       "Winning_Ratio             0\n",
       "Auction_Duration          0\n",
       "Class                     0\n",
       "dtype: int64"
      ]
     },
     "execution_count": 50,
     "metadata": {},
     "output_type": "execute_result"
    }
   ],
   "source": [
    "df.isnull().sum()"
   ]
  },
  {
   "cell_type": "code",
   "execution_count": 51,
   "id": "4931476f-563a-4da2-a148-369f5fcff5b9",
   "metadata": {},
   "outputs": [
    {
     "data": {
      "text/plain": [
       "0    5646\n",
       "1     675\n",
       "Name: Class, dtype: int64"
      ]
     },
     "execution_count": 51,
     "metadata": {},
     "output_type": "execute_result"
    }
   ],
   "source": [
    "df.Class.value_counts()\n",
    "# the class is imbalance in teh dataset."
   ]
  },
  {
   "cell_type": "code",
   "execution_count": 52,
   "id": "9bd5ab10-fa5c-4e3d-b9b8-e005efff7182",
   "metadata": {},
   "outputs": [
    {
     "data": {
      "text/plain": [
       "0    0.893213\n",
       "1    0.106787\n",
       "Name: Class, dtype: float64"
      ]
     },
     "execution_count": 52,
     "metadata": {},
     "output_type": "execute_result"
    }
   ],
   "source": [
    "df.Class.value_counts(normalize=True)"
   ]
  },
  {
   "cell_type": "markdown",
   "id": "b406d158-00ce-4808-9239-56ddb18ede8a",
   "metadata": {},
   "source": [
    "The class is highly imbalance as almost 90% of the dataset are negative dataset.\n",
    "\n",
    "As the other class is almost 90 % of the dataset, so even if you predict all as 0 then you would be 90% accurate. Accuracy won't be a good measure to evaluate the model. Either F1-score or any other score woudl be a great addition to the same."
   ]
  },
  {
   "cell_type": "code",
   "execution_count": 53,
   "id": "bc6051d4-452a-45b6-b71a-4ff9ddf63531",
   "metadata": {},
   "outputs": [
    {
     "data": {
      "text/plain": [
       "Index(['Record_ID', 'Auction_ID', 'Bidder_ID', 'Bidder_Tendency',\n",
       "       'Bidding_Ratio', 'Successive_Outbidding', 'Last_Bidding',\n",
       "       'Auction_Bids', 'Starting_Price_Average', 'Early_Bidding',\n",
       "       'Winning_Ratio', 'Auction_Duration', 'Class'],\n",
       "      dtype='object')"
      ]
     },
     "execution_count": 53,
     "metadata": {},
     "output_type": "execute_result"
    }
   ],
   "source": [
    "# # as there are no string values so not taking in the categorical\n",
    "# categorical  \n",
    "df.columns"
   ]
  },
  {
   "cell_type": "code",
   "execution_count": 54,
   "id": "642fc0c5-b854-4c73-92f2-9da48bbc8eb7",
   "metadata": {},
   "outputs": [],
   "source": [
    "remove_cols = ['Record_ID', 'Bidder_ID', 'Class']\n",
    "numerical = [ cols for cols in df.columns if cols not in remove_cols ]"
   ]
  },
  {
   "cell_type": "markdown",
   "id": "082afeef-b4b7-49ca-91f3-53d475429192",
   "metadata": {},
   "source": [
    "`Record_ID` and `Bidder_ID` is unique for each of the record , although there may be one of the request which maybe a  fraud one, so we are keeping the `Auction_ID`. And teh `Class` is to be removed from the list as it is a Class title."
   ]
  },
  {
   "cell_type": "code",
   "execution_count": 55,
   "id": "03159af0-08d6-46a9-9256-c504fa7bba7c",
   "metadata": {},
   "outputs": [
    {
     "data": {
      "text/plain": [
       "Auction_ID                 807\n",
       "Bidder_Tendency            489\n",
       "Bidding_Ratio              400\n",
       "Successive_Outbidding        3\n",
       "Last_Bidding              5807\n",
       "Auction_Bids                49\n",
       "Starting_Price_Average      22\n",
       "Early_Bidding             5690\n",
       "Winning_Ratio               72\n",
       "Auction_Duration             5\n",
       "dtype: int64"
      ]
     },
     "execution_count": 55,
     "metadata": {},
     "output_type": "execute_result"
    }
   ],
   "source": [
    "df[numerical].nunique()"
   ]
  },
  {
   "cell_type": "markdown",
   "id": "9a48a856-be13-449b-b96a-adcad78ba2e0",
   "metadata": {},
   "source": []
  },
  {
   "cell_type": "markdown",
   "id": "37d8919e-f0e3-4e90-915b-1f972ab74df6",
   "metadata": {
    "tags": []
   },
   "source": [
    "# Splitting into train, test and val"
   ]
  },
  {
   "cell_type": "code",
   "execution_count": 56,
   "id": "fa8206e4-b599-42fa-84d0-47b646be41ea",
   "metadata": {},
   "outputs": [],
   "source": [
    "from sklearn.model_selection import train_test_split"
   ]
  },
  {
   "cell_type": "code",
   "execution_count": 57,
   "id": "1cf1b664-5789-4afa-b510-eaa584c3bcf0",
   "metadata": {},
   "outputs": [],
   "source": [
    "df_train_full, df_test = train_test_split(df, test_size=0.2, random_state=1)"
   ]
  },
  {
   "cell_type": "code",
   "execution_count": 58,
   "id": "9f3d452c-a8a7-418a-b10f-2f85191b5a85",
   "metadata": {},
   "outputs": [],
   "source": [
    "df_train, df_val = train_test_split(df_train_full, test_size=0.33, random_state=11)"
   ]
  },
  {
   "cell_type": "code",
   "execution_count": 59,
   "id": "6bdfb31e-7ebd-441a-94ca-1f68a52fca4b",
   "metadata": {},
   "outputs": [],
   "source": [
    "y_train = df_train.Class.values\n",
    "y_val = df_val.Class.values"
   ]
  },
  {
   "cell_type": "code",
   "execution_count": 60,
   "id": "38362777-28d0-45f7-9bed-6b70b780afab",
   "metadata": {},
   "outputs": [],
   "source": [
    "del df_train['Class']\n",
    "del df_val['Class']"
   ]
  },
  {
   "cell_type": "markdown",
   "id": "25ed684d-e66e-4939-836d-a833bfb2f1b8",
   "metadata": {},
   "source": [
    "# Feature importance"
   ]
  },
  {
   "cell_type": "code",
   "execution_count": null,
   "id": "0a89f261-72db-470f-9976-c55fc36c08d8",
   "metadata": {},
   "outputs": [],
   "source": []
  },
  {
   "cell_type": "code",
   "execution_count": 61,
   "id": "d8b8de2b-92e4-41dd-9572-957ac1a420b4",
   "metadata": {},
   "outputs": [],
   "source": [
    "# feature importance\n",
    "# scaling for numerical values\n",
    "# using logistic regression with a particular threshold probability\n",
    "# using RandomForestClassifier \n",
    "# using XGBoostClassifier"
   ]
  },
  {
   "cell_type": "code",
   "execution_count": 62,
   "id": "913aa635-12b6-49a3-9c86-7da23683ae22",
   "metadata": {},
   "outputs": [],
   "source": [
    "from sklearn.metrics import mutual_info_score"
   ]
  },
  {
   "cell_type": "code",
   "execution_count": 63,
   "id": "a5655b21-e201-49c9-98e9-c0d4a46b1fee",
   "metadata": {},
   "outputs": [],
   "source": [
    "def mutual_info_churn_score(series):\n",
    "    return mutual_info_score(series, df_train_full.Class)"
   ]
  },
  {
   "cell_type": "code",
   "execution_count": 64,
   "id": "bb7e377a-a4b4-4327-9edd-c25c9ef1437e",
   "metadata": {},
   "outputs": [
    {
     "name": "stderr",
     "output_type": "stream",
     "text": [
      "/home/prabin_nayak/anaconda3/lib/python3.9/site-packages/sklearn/metrics/cluster/_supervised.py:64: UserWarning: Clustering metrics expects discrete values but received continuous values for label, and binary values for target\n",
      "  warnings.warn(msg, UserWarning)\n",
      "/home/prabin_nayak/anaconda3/lib/python3.9/site-packages/sklearn/metrics/cluster/_supervised.py:64: UserWarning: Clustering metrics expects discrete values but received continuous values for label, and binary values for target\n",
      "  warnings.warn(msg, UserWarning)\n",
      "/home/prabin_nayak/anaconda3/lib/python3.9/site-packages/sklearn/metrics/cluster/_supervised.py:64: UserWarning: Clustering metrics expects discrete values but received continuous values for label, and binary values for target\n",
      "  warnings.warn(msg, UserWarning)\n",
      "/home/prabin_nayak/anaconda3/lib/python3.9/site-packages/sklearn/metrics/cluster/_supervised.py:64: UserWarning: Clustering metrics expects discrete values but received continuous values for label, and binary values for target\n",
      "  warnings.warn(msg, UserWarning)\n",
      "/home/prabin_nayak/anaconda3/lib/python3.9/site-packages/sklearn/metrics/cluster/_supervised.py:64: UserWarning: Clustering metrics expects discrete values but received continuous values for label, and binary values for target\n",
      "  warnings.warn(msg, UserWarning)\n",
      "/home/prabin_nayak/anaconda3/lib/python3.9/site-packages/sklearn/metrics/cluster/_supervised.py:64: UserWarning: Clustering metrics expects discrete values but received continuous values for label, and binary values for target\n",
      "  warnings.warn(msg, UserWarning)\n",
      "/home/prabin_nayak/anaconda3/lib/python3.9/site-packages/sklearn/metrics/cluster/_supervised.py:64: UserWarning: Clustering metrics expects discrete values but received continuous values for label, and binary values for target\n",
      "  warnings.warn(msg, UserWarning)\n",
      "/home/prabin_nayak/anaconda3/lib/python3.9/site-packages/sklearn/metrics/cluster/_supervised.py:64: UserWarning: Clustering metrics expects discrete values but received continuous values for label, and binary values for target\n",
      "  warnings.warn(msg, UserWarning)\n"
     ]
    },
    {
     "data": {
      "text/plain": [
       "Last_Bidding              0.336312\n",
       "Early_Bidding             0.325043\n",
       "Successive_Outbidding     0.285876\n",
       "Bidding_Ratio             0.202950\n",
       "Bidder_Tendency           0.184390\n",
       "Winning_Ratio             0.104919\n",
       "Auction_ID                0.085818\n",
       "Auction_Bids              0.006399\n",
       "Auction_Duration          0.005722\n",
       "Starting_Price_Average    0.003136\n",
       "dtype: float64"
      ]
     },
     "execution_count": 64,
     "metadata": {},
     "output_type": "execute_result"
    }
   ],
   "source": [
    "mi = df_train_full[numerical].apply(mutual_info_churn_score)\n",
    "mi.sort_values(ascending=False)"
   ]
  },
  {
   "cell_type": "markdown",
   "id": "fac3e436-024b-4927-8082-e30e52c1f474",
   "metadata": {},
   "source": [
    "Though the mutual_score_info only deals with discrete values i.e. the categorical values, we can get a good idea of which of teh feature gives best information about the data."
   ]
  },
  {
   "cell_type": "markdown",
   "id": "df5f54d5-a507-4d1b-b6d6-f2adeca37191",
   "metadata": {},
   "source": [
    "Correlation matrix: https://datatofish.com/correlation-matrix-pandas/"
   ]
  },
  {
   "cell_type": "code",
   "execution_count": 65,
   "id": "a44f4959-529e-4b4a-ab53-19f6fde46274",
   "metadata": {},
   "outputs": [],
   "source": [
    "corr_remove_cols = ['Record_ID', 'Bidder_ID' ]\n",
    "corr_heatmap_col = [cols for cols in df_train_full.columns if cols not in corr_remove_cols ]"
   ]
  },
  {
   "cell_type": "code",
   "execution_count": 66,
   "id": "4f149c4a-3265-40da-a15d-dbfd3621096f",
   "metadata": {},
   "outputs": [
    {
     "data": {
      "text/plain": [
       "['Auction_ID',\n",
       " 'Bidder_Tendency',\n",
       " 'Bidding_Ratio',\n",
       " 'Successive_Outbidding',\n",
       " 'Last_Bidding',\n",
       " 'Auction_Bids',\n",
       " 'Starting_Price_Average',\n",
       " 'Early_Bidding',\n",
       " 'Winning_Ratio',\n",
       " 'Auction_Duration',\n",
       " 'Class']"
      ]
     },
     "execution_count": 66,
     "metadata": {},
     "output_type": "execute_result"
    }
   ],
   "source": [
    "corr_heatmap_col"
   ]
  },
  {
   "cell_type": "code",
   "execution_count": 67,
   "id": "97b27534-8ff0-4808-bfe9-d2fe9a351efa",
   "metadata": {},
   "outputs": [
    {
     "data": {
      "image/png": "[encoded data removed]",
      "text/plain": [
       "<Figure size 1300x700 with 2 Axes>"
      ]
     },
     "metadata": {},
     "output_type": "display_data"
    }
   ],
   "source": [
    "plt.figure(figsize=(13,7))\n",
    "\n",
    "corr_matrix = df_train_full[corr_heatmap_col].corr()\n",
    "sns.heatmap(corr_matrix, annot=True)\n",
    "plt.show()"
   ]
  },
  {
   "cell_type": "markdown",
   "id": "cbd5b70e-16be-4fa2-9d24-1ffe7b17d73a",
   "metadata": {},
   "source": [
    "Successive_Outbidding is the most important predictor of the Class targe var. Winning Ratio and Biding Ratio is somewhat correlated to each other and one of it could be removed from teh feature set to predict the target var. Adding both will have almost the same effect."
   ]
  },
  {
   "cell_type": "code",
   "execution_count": null,
   "id": "d1574ca4-924a-4d46-a2ed-9adc5a3acade",
   "metadata": {},
   "outputs": [],
   "source": []
  },
  {
   "cell_type": "code",
   "execution_count": null,
   "id": "40e8c7ac-2197-4ac7-a157-b68c40dec19f",
   "metadata": {},
   "outputs": [],
   "source": []
  },
  {
   "cell_type": "markdown",
   "id": "a609e372-5fd3-423e-88f9-e5f15c062b0f",
   "metadata": {},
   "source": [
    "# Training\n",
    "\n",
    "* Logistic Regression \n",
    "* RandomForest : https://machinelearningmastery.com/random-forest-ensemble-in-python/\n"
   ]
  },
  {
   "cell_type": "code",
   "execution_count": 68,
   "id": "c8d1cacc-24e6-49aa-a18c-6f50f37f1860",
   "metadata": {},
   "outputs": [],
   "source": [
    "from sklearn.feature_extraction import DictVectorizer\n",
    "\n",
    "from sklearn.metrics import roc_auc_score\n",
    "from sklearn.metrics import roc_curve"
   ]
  },
  {
   "cell_type": "code",
   "execution_count": 69,
   "id": "a65cdd4f-786f-45a1-a5d0-7faf88f8bc0c",
   "metadata": {},
   "outputs": [],
   "source": [
    "train_dict = df_train[numerical].to_dict(orient='records')"
   ]
  },
  {
   "cell_type": "code",
   "execution_count": 70,
   "id": "31dd9e4e-a80f-4c02-b986-28b37c2129b6",
   "metadata": {},
   "outputs": [
    {
     "data": {
      "text/html": [
       "<style>#sk-container-id-3 {color: black;background-color: white;}#sk-container-id-3 pre{padding: 0;}#sk-container-id-3 div.sk-toggleable {background-color: white;}#sk-container-id-3 label.sk-toggleable__label {cursor: pointer;display: block;width: 100%;margin-bottom: 0;padding: 0.3em;box-sizing: border-box;text-align: center;}#sk-container-id-3 label.sk-toggleable__label-arrow:before {content: \"▸\";float: left;margin-right: 0.25em;color: #696969;}#sk-container-id-3 label.sk-toggleable__label-arrow:hover:before {color: black;}#sk-container-id-3 div.sk-estimator:hover label.sk-toggleable__label-arrow:before {color: black;}#sk-container-id-3 div.sk-toggleable__content {max-height: 0;max-width: 0;overflow: hidden;text-align: left;background-color: #f0f8ff;}#sk-container-id-3 div.sk-toggleable__content pre {margin: 0.2em;color: black;border-radius: 0.25em;background-color: #f0f8ff;}#sk-container-id-3 input.sk-toggleable__control:checked~div.sk-toggleable__content {max-height: 200px;max-width: 100%;overflow: auto;}#sk-container-id-3 input.sk-toggleable__control:checked~label.sk-toggleable__label-arrow:before {content: \"▾\";}#sk-container-id-3 div.sk-estimator input.sk-toggleable__control:checked~label.sk-toggleable__label {background-color: #d4ebff;}#sk-container-id-3 div.sk-label input.sk-toggleable__control:checked~label.sk-toggleable__label {background-color: #d4ebff;}#sk-container-id-3 input.sk-hidden--visually {border: 0;clip: rect(1px 1px 1px 1px);clip: rect(1px, 1px, 1px, 1px);height: 1px;margin: -1px;overflow: hidden;padding: 0;position: absolute;width: 1px;}#sk-container-id-3 div.sk-estimator {font-family: monospace;background-color: #f0f8ff;border: 1px dotted black;border-radius: 0.25em;box-sizing: border-box;margin-bottom: 0.5em;}#sk-container-id-3 div.sk-estimator:hover {background-color: #d4ebff;}#sk-container-id-3 div.sk-parallel-item::after {content: \"\";width: 100%;border-bottom: 1px solid gray;flex-grow: 1;}#sk-container-id-3 div.sk-label:hover label.sk-toggleable__label {background-color: #d4ebff;}#sk-container-id-3 div.sk-serial::before {content: \"\";position: absolute;border-left: 1px solid gray;box-sizing: border-box;top: 0;bottom: 0;left: 50%;z-index: 0;}#sk-container-id-3 div.sk-serial {display: flex;flex-direction: column;align-items: center;background-color: white;padding-right: 0.2em;padding-left: 0.2em;position: relative;}#sk-container-id-3 div.sk-item {position: relative;z-index: 1;}#sk-container-id-3 div.sk-parallel {display: flex;align-items: stretch;justify-content: center;background-color: white;position: relative;}#sk-container-id-3 div.sk-item::before, #sk-container-id-3 div.sk-parallel-item::before {content: \"\";position: absolute;border-left: 1px solid gray;box-sizing: border-box;top: 0;bottom: 0;left: 50%;z-index: -1;}#sk-container-id-3 div.sk-parallel-item {display: flex;flex-direction: column;z-index: 1;position: relative;background-color: white;}#sk-container-id-3 div.sk-parallel-item:first-child::after {align-self: flex-end;width: 50%;}#sk-container-id-3 div.sk-parallel-item:last-child::after {align-self: flex-start;width: 50%;}#sk-container-id-3 div.sk-parallel-item:only-child::after {width: 0;}#sk-container-id-3 div.sk-dashed-wrapped {border: 1px dashed gray;margin: 0 0.4em 0.5em 0.4em;box-sizing: border-box;padding-bottom: 0.4em;background-color: white;}#sk-container-id-3 div.sk-label label {font-family: monospace;font-weight: bold;display: inline-block;line-height: 1.2em;}#sk-container-id-3 div.sk-label-container {text-align: center;}#sk-container-id-3 div.sk-container {/* jupyter's `normalize.less` sets `[hidden] { display: none; }` but bootstrap.min.css set `[hidden] { display: none !important; }` so we also need the `!important` here to be able to override the default hidden behavior on the sphinx rendered scikit-learn.org. See: https://github.com/scikit-learn/scikit-learn/issues/21755 */display: inline-block !important;position: relative;}#sk-container-id-3 div.sk-text-repr-fallback {display: none;}</style><div id=\"sk-container-id-3\" class=\"sk-top-container\"><div class=\"sk-text-repr-fallback\"><pre>DictVectorizer(sparse=False)</pre><b>In a Jupyter environment, please rerun this cell to show the HTML representation or trust the notebook. <br />On GitHub, the HTML representation is unable to render, please try loading this page with nbviewer.org.</b></div><div class=\"sk-container\" hidden><div class=\"sk-item\"><div class=\"sk-estimator sk-toggleable\"><input class=\"sk-toggleable__control sk-hidden--visually\" id=\"sk-estimator-id-3\" type=\"checkbox\" checked><label for=\"sk-estimator-id-3\" class=\"sk-toggleable__label sk-toggleable__label-arrow\">DictVectorizer</label><div class=\"sk-toggleable__content\"><pre>DictVectorizer(sparse=False)</pre></div></div></div></div></div>"
      ],
      "text/plain": [
       "DictVectorizer(sparse=False)"
      ]
     },
     "execution_count": 70,
     "metadata": {},
     "output_type": "execute_result"
    }
   ],
   "source": [
    "dv = DictVectorizer(sparse=False)\n",
    "dv.fit(train_dict)"
   ]
  },
  {
   "cell_type": "code",
   "execution_count": 71,
   "id": "4c0a378d-eee2-4efc-ad42-0741779cd9b9",
   "metadata": {},
   "outputs": [],
   "source": [
    "X_train = dv.transform(train_dict)"
   ]
  },
  {
   "cell_type": "code",
   "execution_count": 72,
   "id": "804350a7-1726-4d7d-8a93-20d140c6e74d",
   "metadata": {},
   "outputs": [
    {
     "data": {
      "text/plain": [
       "(3387, 10)"
      ]
     },
     "execution_count": 72,
     "metadata": {},
     "output_type": "execute_result"
    }
   ],
   "source": [
    "X_train.shape"
   ]
  },
  {
   "cell_type": "markdown",
   "id": "927a6754-70bd-4b51-bde7-9b47eca81293",
   "metadata": {},
   "source": [
    "## Logistic Regression"
   ]
  },
  {
   "cell_type": "code",
   "execution_count": 73,
   "id": "6ad5bb42-44d0-4ea8-a1df-28b4049874b8",
   "metadata": {},
   "outputs": [],
   "source": [
    "from sklearn.linear_model import LogisticRegression"
   ]
  },
  {
   "cell_type": "code",
   "execution_count": 74,
   "id": "6fbaf958-7615-4dd4-ae7c-66426a564e22",
   "metadata": {},
   "outputs": [
    {
     "data": {
      "text/html": [
       "<style>#sk-container-id-4 {color: black;background-color: white;}#sk-container-id-4 pre{padding: 0;}#sk-container-id-4 div.sk-toggleable {background-color: white;}#sk-container-id-4 label.sk-toggleable__label {cursor: pointer;display: block;width: 100%;margin-bottom: 0;padding: 0.3em;box-sizing: border-box;text-align: center;}#sk-container-id-4 label.sk-toggleable__label-arrow:before {content: \"▸\";float: left;margin-right: 0.25em;color: #696969;}#sk-container-id-4 label.sk-toggleable__label-arrow:hover:before {color: black;}#sk-container-id-4 div.sk-estimator:hover label.sk-toggleable__label-arrow:before {color: black;}#sk-container-id-4 div.sk-toggleable__content {max-height: 0;max-width: 0;overflow: hidden;text-align: left;background-color: #f0f8ff;}#sk-container-id-4 div.sk-toggleable__content pre {margin: 0.2em;color: black;border-radius: 0.25em;background-color: #f0f8ff;}#sk-container-id-4 input.sk-toggleable__control:checked~div.sk-toggleable__content {max-height: 200px;max-width: 100%;overflow: auto;}#sk-container-id-4 input.sk-toggleable__control:checked~label.sk-toggleable__label-arrow:before {content: \"▾\";}#sk-container-id-4 div.sk-estimator input.sk-toggleable__control:checked~label.sk-toggleable__label {background-color: #d4ebff;}#sk-container-id-4 div.sk-label input.sk-toggleable__control:checked~label.sk-toggleable__label {background-color: #d4ebff;}#sk-container-id-4 input.sk-hidden--visually {border: 0;clip: rect(1px 1px 1px 1px);clip: rect(1px, 1px, 1px, 1px);height: 1px;margin: -1px;overflow: hidden;padding: 0;position: absolute;width: 1px;}#sk-container-id-4 div.sk-estimator {font-family: monospace;background-color: #f0f8ff;border: 1px dotted black;border-radius: 0.25em;box-sizing: border-box;margin-bottom: 0.5em;}#sk-container-id-4 div.sk-estimator:hover {background-color: #d4ebff;}#sk-container-id-4 div.sk-parallel-item::after {content: \"\";width: 100%;border-bottom: 1px solid gray;flex-grow: 1;}#sk-container-id-4 div.sk-label:hover label.sk-toggleable__label {background-color: #d4ebff;}#sk-container-id-4 div.sk-serial::before {content: \"\";position: absolute;border-left: 1px solid gray;box-sizing: border-box;top: 0;bottom: 0;left: 50%;z-index: 0;}#sk-container-id-4 div.sk-serial {display: flex;flex-direction: column;align-items: center;background-color: white;padding-right: 0.2em;padding-left: 0.2em;position: relative;}#sk-container-id-4 div.sk-item {position: relative;z-index: 1;}#sk-container-id-4 div.sk-parallel {display: flex;align-items: stretch;justify-content: center;background-color: white;position: relative;}#sk-container-id-4 div.sk-item::before, #sk-container-id-4 div.sk-parallel-item::before {content: \"\";position: absolute;border-left: 1px solid gray;box-sizing: border-box;top: 0;bottom: 0;left: 50%;z-index: -1;}#sk-container-id-4 div.sk-parallel-item {display: flex;flex-direction: column;z-index: 1;position: relative;background-color: white;}#sk-container-id-4 div.sk-parallel-item:first-child::after {align-self: flex-end;width: 50%;}#sk-container-id-4 div.sk-parallel-item:last-child::after {align-self: flex-start;width: 50%;}#sk-container-id-4 div.sk-parallel-item:only-child::after {width: 0;}#sk-container-id-4 div.sk-dashed-wrapped {border: 1px dashed gray;margin: 0 0.4em 0.5em 0.4em;box-sizing: border-box;padding-bottom: 0.4em;background-color: white;}#sk-container-id-4 div.sk-label label {font-family: monospace;font-weight: bold;display: inline-block;line-height: 1.2em;}#sk-container-id-4 div.sk-label-container {text-align: center;}#sk-container-id-4 div.sk-container {/* jupyter's `normalize.less` sets `[hidden] { display: none; }` but bootstrap.min.css set `[hidden] { display: none !important; }` so we also need the `!important` here to be able to override the default hidden behavior on the sphinx rendered scikit-learn.org. See: https://github.com/scikit-learn/scikit-learn/issues/21755 */display: inline-block !important;position: relative;}#sk-container-id-4 div.sk-text-repr-fallback {display: none;}</style><div id=\"sk-container-id-4\" class=\"sk-top-container\"><div class=\"sk-text-repr-fallback\"><pre>LogisticRegression(random_state=1, solver=&#x27;liblinear&#x27;)</pre><b>In a Jupyter environment, please rerun this cell to show the HTML representation or trust the notebook. <br />On GitHub, the HTML representation is unable to render, please try loading this page with nbviewer.org.</b></div><div class=\"sk-container\" hidden><div class=\"sk-item\"><div class=\"sk-estimator sk-toggleable\"><input class=\"sk-toggleable__control sk-hidden--visually\" id=\"sk-estimator-id-4\" type=\"checkbox\" checked><label for=\"sk-estimator-id-4\" class=\"sk-toggleable__label sk-toggleable__label-arrow\">LogisticRegression</label><div class=\"sk-toggleable__content\"><pre>LogisticRegression(random_state=1, solver=&#x27;liblinear&#x27;)</pre></div></div></div></div></div>"
      ],
      "text/plain": [
       "LogisticRegression(random_state=1, solver='liblinear')"
      ]
     },
     "execution_count": 74,
     "metadata": {},
     "output_type": "execute_result"
    }
   ],
   "source": [
    "model = LogisticRegression(solver='liblinear', random_state=1)\n",
    "model.fit(X_train, y_train)"
   ]
  },
  {
   "cell_type": "code",
   "execution_count": 75,
   "id": "d582d34b-427a-489d-9c0d-31fcec9fa1da",
   "metadata": {},
   "outputs": [],
   "source": [
    "val_dict = df_val[numerical].to_dict(orient='records')\n",
    "X_val = dv.transform(val_dict)"
   ]
  },
  {
   "cell_type": "code",
   "execution_count": 76,
   "id": "6691fdda-f734-45e9-b3e1-e2538d3adc70",
   "metadata": {},
   "outputs": [],
   "source": [
    "y_pred = model.predict_proba(X_val)[:, 1]"
   ]
  },
  {
   "cell_type": "code",
   "execution_count": null,
   "id": "80e31656-3043-4646-9046-8a698b837603",
   "metadata": {},
   "outputs": [],
   "source": []
  },
  {
   "cell_type": "code",
   "execution_count": 77,
   "id": "3cd14d63-2391-4d3e-9baa-6cc61cf9088d",
   "metadata": {},
   "outputs": [
    {
     "data": {
      "text/plain": [
       "0.9956761766602192"
      ]
     },
     "execution_count": 77,
     "metadata": {},
     "output_type": "execute_result"
    }
   ],
   "source": [
    "roc_auc_score(y_val, y_pred)"
   ]
  },
  {
   "cell_type": "code",
   "execution_count": 78,
   "id": "967d4ccc-f222-416f-b668-a4b9a6925368",
   "metadata": {},
   "outputs": [
    {
     "data": {
      "text/plain": [
       "0.9462342843326887"
      ]
     },
     "execution_count": 78,
     "metadata": {},
     "output_type": "execute_result"
    }
   ],
   "source": [
    "y_pred_bin = model.predict(X_val)\n",
    "roc_auc_score(y_val, y_pred_bin)"
   ]
  },
  {
   "cell_type": "code",
   "execution_count": null,
   "id": "26ffc9da-1597-4a8e-84d2-8ffb9b5cbcd7",
   "metadata": {},
   "outputs": [],
   "source": []
  },
  {
   "cell_type": "code",
   "execution_count": 79,
   "id": "84ecaafa-46c6-4105-8cd8-7a2845dad4bc",
   "metadata": {},
   "outputs": [
    {
     "data": {
      "image/png": "[encoded data removed]",
      "text/plain": [
       "<Figure size 500x500 with 1 Axes>"
      ]
     },
     "metadata": {},
     "output_type": "display_data"
    }
   ],
   "source": [
    "plt.figure(figsize=(5, 5))\n",
    "\n",
    "fpr, tpr, _ = roc_curve(y_val, y_pred)\n",
    "plt.plot(fpr, tpr, label='probability')\n",
    "\n",
    "fpr, tpr, _ = roc_curve(y_val, y_pred_bin)\n",
    "plt.plot(fpr, tpr, label='hard prediction')\n",
    "\n",
    "plt.plot([0, 1], [0, 1], color='grey', linestyle='--')\n",
    "\n",
    "plt.legend()\n",
    "plt.show()"
   ]
  },
  {
   "cell_type": "code",
   "execution_count": 80,
   "id": "8be13fc7-e91f-4ed9-96ea-0d19675f6351",
   "metadata": {},
   "outputs": [
    {
     "data": {
      "text/html": [
       "<div>\n",
       "<style scoped>\n",
       "    .dataframe tbody tr th:only-of-type {\n",
       "        vertical-align: middle;\n",
       "    }\n",
       "\n",
       "    .dataframe tbody tr th {\n",
       "        vertical-align: top;\n",
       "    }\n",
       "\n",
       "    .dataframe thead th {\n",
       "        text-align: right;\n",
       "    }\n",
       "</style>\n",
       "<table border=\"1\" class=\"dataframe\">\n",
       "  <thead>\n",
       "    <tr style=\"text-align: right;\">\n",
       "      <th></th>\n",
       "      <th>threshold</th>\n",
       "      <th>tp</th>\n",
       "      <th>fp</th>\n",
       "      <th>fn</th>\n",
       "      <th>tn</th>\n",
       "    </tr>\n",
       "  </thead>\n",
       "  <tbody>\n",
       "    <tr>\n",
       "      <th>0</th>\n",
       "      <td>0.0</td>\n",
       "      <td>165</td>\n",
       "      <td>1504</td>\n",
       "      <td>0</td>\n",
       "      <td>0</td>\n",
       "    </tr>\n",
       "    <tr>\n",
       "      <th>10</th>\n",
       "      <td>0.1</td>\n",
       "      <td>165</td>\n",
       "      <td>46</td>\n",
       "      <td>0</td>\n",
       "      <td>1458</td>\n",
       "    </tr>\n",
       "    <tr>\n",
       "      <th>20</th>\n",
       "      <td>0.2</td>\n",
       "      <td>164</td>\n",
       "      <td>36</td>\n",
       "      <td>1</td>\n",
       "      <td>1468</td>\n",
       "    </tr>\n",
       "    <tr>\n",
       "      <th>30</th>\n",
       "      <td>0.3</td>\n",
       "      <td>164</td>\n",
       "      <td>35</td>\n",
       "      <td>1</td>\n",
       "      <td>1469</td>\n",
       "    </tr>\n",
       "    <tr>\n",
       "      <th>40</th>\n",
       "      <td>0.4</td>\n",
       "      <td>162</td>\n",
       "      <td>32</td>\n",
       "      <td>3</td>\n",
       "      <td>1472</td>\n",
       "    </tr>\n",
       "    <tr>\n",
       "      <th>50</th>\n",
       "      <td>0.5</td>\n",
       "      <td>150</td>\n",
       "      <td>25</td>\n",
       "      <td>15</td>\n",
       "      <td>1479</td>\n",
       "    </tr>\n",
       "    <tr>\n",
       "      <th>60</th>\n",
       "      <td>0.6</td>\n",
       "      <td>135</td>\n",
       "      <td>19</td>\n",
       "      <td>30</td>\n",
       "      <td>1485</td>\n",
       "    </tr>\n",
       "    <tr>\n",
       "      <th>70</th>\n",
       "      <td>0.7</td>\n",
       "      <td>112</td>\n",
       "      <td>7</td>\n",
       "      <td>53</td>\n",
       "      <td>1497</td>\n",
       "    </tr>\n",
       "    <tr>\n",
       "      <th>80</th>\n",
       "      <td>0.8</td>\n",
       "      <td>109</td>\n",
       "      <td>5</td>\n",
       "      <td>56</td>\n",
       "      <td>1499</td>\n",
       "    </tr>\n",
       "    <tr>\n",
       "      <th>90</th>\n",
       "      <td>0.9</td>\n",
       "      <td>109</td>\n",
       "      <td>1</td>\n",
       "      <td>56</td>\n",
       "      <td>1503</td>\n",
       "    </tr>\n",
       "    <tr>\n",
       "      <th>100</th>\n",
       "      <td>1.0</td>\n",
       "      <td>0</td>\n",
       "      <td>0</td>\n",
       "      <td>165</td>\n",
       "      <td>1504</td>\n",
       "    </tr>\n",
       "  </tbody>\n",
       "</table>\n",
       "</div>"
      ],
      "text/plain": [
       "     threshold   tp    fp   fn    tn\n",
       "0          0.0  165  1504    0     0\n",
       "10         0.1  165    46    0  1458\n",
       "20         0.2  164    36    1  1468\n",
       "30         0.3  164    35    1  1469\n",
       "40         0.4  162    32    3  1472\n",
       "50         0.5  150    25   15  1479\n",
       "60         0.6  135    19   30  1485\n",
       "70         0.7  112     7   53  1497\n",
       "80         0.8  109     5   56  1499\n",
       "90         0.9  109     1   56  1503\n",
       "100        1.0    0     0  165  1504"
      ]
     },
     "execution_count": 80,
     "metadata": {},
     "output_type": "execute_result"
    }
   ],
   "source": [
    "def confusion_matrix_dataframe(y_val, y_pred):\n",
    "    scores = []\n",
    "\n",
    "    thresholds = np.linspace(0, 1, 101)\n",
    "\n",
    "    for t in thresholds:\n",
    "        actual_positive = (y_val == 1)\n",
    "        actual_negative = (y_val == 0)\n",
    "\n",
    "        predict_positive = (y_pred >= t)\n",
    "        predict_negative = (y_pred < t)\n",
    "\n",
    "        tp = (predict_positive & actual_positive).sum()\n",
    "        tn = (predict_negative & actual_negative).sum()\n",
    "\n",
    "        fp = (predict_positive & actual_negative).sum()\n",
    "        fn = (predict_negative & actual_positive).sum()\n",
    "\n",
    "        scores.append((t, tp, fp, fn, tn))\n",
    "\n",
    "    columns = ['threshold', 'tp', 'fp', 'fn', 'tn']\n",
    "    df_scores = pd.DataFrame(scores, columns=columns)\n",
    "    \n",
    "    return df_scores\n",
    "\n",
    "df_scores = confusion_matrix_dataframe(y_val, y_pred)\n",
    "df_scores[::10]"
   ]
  },
  {
   "cell_type": "code",
   "execution_count": 81,
   "id": "2286c9dc-377b-4569-bed1-f90260cc65fc",
   "metadata": {},
   "outputs": [
    {
     "data": {
      "image/png": "[encoded data removed]",
      "text/plain": [
       "<Figure size 640x480 with 1 Axes>"
      ]
     },
     "metadata": {},
     "output_type": "display_data"
    }
   ],
   "source": [
    "# additing precission(p) and recall(r) column to the above table\n",
    "df_scores['p'] = df_scores.tp / (df_scores.tp + df_scores.fp)\n",
    "df_scores['r'] = df_scores.tp / (df_scores.tp + df_scores.fn)\n",
    "\n",
    "# INSPECTING THE CURVES:\n",
    "plt.plot(df_scores.threshold, df_scores.p, label='precision')\n",
    "plt.plot(df_scores.threshold, df_scores.r, label='recall')\n",
    "\n",
    "plt.legend()\n",
    "plt.show()"
   ]
  },
  {
   "cell_type": "markdown",
   "id": "efc3e5c5-7748-49c7-b00a-b3a7a5511671",
   "metadata": {},
   "source": [
    "NOTE: teh intersection is moslty at 0.57 where we have the most optimal values for precision and recall."
   ]
  },
  {
   "cell_type": "code",
   "execution_count": 82,
   "id": "6c82c1e6-487a-45b3-8060-237d5754de9a",
   "metadata": {},
   "outputs": [
    {
     "data": {
      "text/plain": [
       "array([0.03195313, 0.63436169, 0.02786732, ..., 0.00277603, 0.02369715,\n",
       "       0.0026533 ])"
      ]
     },
     "execution_count": 82,
     "metadata": {},
     "output_type": "execute_result"
    }
   ],
   "source": [
    "y_pred"
   ]
  },
  {
   "cell_type": "code",
   "execution_count": 83,
   "id": "b8745782-57f5-4d2d-86cf-639f629f09a5",
   "metadata": {},
   "outputs": [],
   "source": [
    "fraud_bid = y_pred > 0.57"
   ]
  },
  {
   "cell_type": "code",
   "execution_count": 85,
   "id": "e624372f-59a5-4c02-a9d9-4cc96aff474e",
   "metadata": {},
   "outputs": [
    {
     "data": {
      "text/plain": [
       "0.9730377471539844"
      ]
     },
     "execution_count": 85,
     "metadata": {},
     "output_type": "execute_result"
    }
   ],
   "source": [
    "(y_val == fraud_bid).mean()"
   ]
  },
  {
   "cell_type": "code",
   "execution_count": 91,
   "id": "e76fb475-1e46-490b-930b-ab9a77f463d7",
   "metadata": {},
   "outputs": [
    {
     "data": {
      "text/plain": [
       "({'Auction_ID': 2185,\n",
       "  'Bidder_Tendency': 0.045454545,\n",
       "  'Bidding_Ratio': 0.025641026,\n",
       "  'Successive_Outbidding': 0.0,\n",
       "  'Last_Bidding': 0.0040856481,\n",
       "  'Auction_Bids': 0.538461538,\n",
       "  'Starting_Price_Average': 0.99935281,\n",
       "  'Early_Bidding': 0.0040856481,\n",
       "  'Winning_Ratio': 0.0,\n",
       "  'Auction_Duration': 5},\n",
       " 0)"
      ]
     },
     "execution_count": 91,
     "metadata": {},
     "output_type": "execute_result"
    }
   ],
   "source": [
    "# to keep a test data point to check the model after saving and loading it again\n",
    "train_dict[1534], y_train[1534]"
   ]
  },
  {
   "cell_type": "code",
   "execution_count": null,
   "id": "c9d3ebbe-278d-4e7a-a0ca-dc45224cdf8f",
   "metadata": {},
   "outputs": [],
   "source": [
    "df_train[1534]"
   ]
  },
  {
   "cell_type": "code",
   "execution_count": null,
   "id": "b4914603-256e-4699-bd1a-f21eb1567c90",
   "metadata": {},
   "outputs": [],
   "source": []
  },
  {
   "cell_type": "markdown",
   "id": "fb6e0020-61e2-463e-9079-a15726587c42",
   "metadata": {},
   "source": [
    "# Deploying the model\n",
    "\n",
    "1. Saving and loading the model\n",
    "1. Web services: introduction to Flask\n",
    "1. Serving the churn model with Flask\n",
    "1. Python virtual environment: Pipenv\n",
    "1. Environment management: Docker\n"
   ]
  },
  {
   "cell_type": "markdown",
   "id": "fd51897d-08e6-4308-acbd-a1bcede82c1c",
   "metadata": {},
   "source": [
    "## Saving and loading the model"
   ]
  },
  {
   "cell_type": "markdown",
   "id": "eaed038d-4c85-4224-b335-7ca89af96d20",
   "metadata": {},
   "source": [
    "### Save the model"
   ]
  },
  {
   "cell_type": "code",
   "execution_count": 92,
   "id": "fb95e17f-fe3d-49e0-9d78-a5b8877906b2",
   "metadata": {},
   "outputs": [],
   "source": [
    "import pickle"
   ]
  },
  {
   "cell_type": "code",
   "execution_count": 94,
   "id": "3f2df629-58ec-40d3-8da4-169b0bd0bdc7",
   "metadata": {},
   "outputs": [],
   "source": [
    "C=1 # just for the sake of keeping the models similar. Should be changea according to the model used."
   ]
  },
  {
   "cell_type": "code",
   "execution_count": 95,
   "id": "94ff6d7e-1c64-40ab-b92a-8e3873984190",
   "metadata": {},
   "outputs": [],
   "source": [
    "output_file = f'model_C={C}.bin'"
   ]
  },
  {
   "cell_type": "code",
   "execution_count": 96,
   "id": "2d7239be-1510-4f6c-bd90-8cc627ad28f0",
   "metadata": {},
   "outputs": [],
   "source": [
    "with open(output_file, 'wb') as f_out: \n",
    "    pickle.dump((dv, model), f_out)"
   ]
  },
  {
   "cell_type": "markdown",
   "id": "7e133bbd-d76e-4a00-bc23-2786f3b5d693",
   "metadata": {},
   "source": [
    "### Load the model"
   ]
  },
  {
   "cell_type": "code",
   "execution_count": 1,
   "id": "d7fe6de6-1395-4113-b1c3-e6696376c465",
   "metadata": {},
   "outputs": [],
   "source": [
    "#  to chekc if the model is loaded from scratch try to restart the kernel and tehn try running the command."
   ]
  },
  {
   "cell_type": "code",
   "execution_count": 2,
   "id": "db0d68ac-1501-43aa-b0cd-2a72b8567f99",
   "metadata": {},
   "outputs": [],
   "source": [
    "import pickle"
   ]
  },
  {
   "cell_type": "code",
   "execution_count": 5,
   "id": "b8177b38-3a70-443d-8207-aba2f22f8546",
   "metadata": {},
   "outputs": [],
   "source": [
    "input_file = 'model_C=1.bin'"
   ]
  },
  {
   "cell_type": "code",
   "execution_count": 6,
   "id": "be89d53b-1880-408e-bbb3-2f433cd33aba",
   "metadata": {},
   "outputs": [],
   "source": [
    "with open(input_file, 'rb') as f_in: \n",
    "    dv, model = pickle.load(f_in)"
   ]
  },
  {
   "cell_type": "code",
   "execution_count": 7,
   "id": "52f1d7d8-2a74-445e-9f77-7fbd0713b6fb",
   "metadata": {},
   "outputs": [
    {
     "data": {
      "text/html": [
       "<style>#sk-container-id-1 {color: black;background-color: white;}#sk-container-id-1 pre{padding: 0;}#sk-container-id-1 div.sk-toggleable {background-color: white;}#sk-container-id-1 label.sk-toggleable__label {cursor: pointer;display: block;width: 100%;margin-bottom: 0;padding: 0.3em;box-sizing: border-box;text-align: center;}#sk-container-id-1 label.sk-toggleable__label-arrow:before {content: \"▸\";float: left;margin-right: 0.25em;color: #696969;}#sk-container-id-1 label.sk-toggleable__label-arrow:hover:before {color: black;}#sk-container-id-1 div.sk-estimator:hover label.sk-toggleable__label-arrow:before {color: black;}#sk-container-id-1 div.sk-toggleable__content {max-height: 0;max-width: 0;overflow: hidden;text-align: left;background-color: #f0f8ff;}#sk-container-id-1 div.sk-toggleable__content pre {margin: 0.2em;color: black;border-radius: 0.25em;background-color: #f0f8ff;}#sk-container-id-1 input.sk-toggleable__control:checked~div.sk-toggleable__content {max-height: 200px;max-width: 100%;overflow: auto;}#sk-container-id-1 input.sk-toggleable__control:checked~label.sk-toggleable__label-arrow:before {content: \"▾\";}#sk-container-id-1 div.sk-estimator input.sk-toggleable__control:checked~label.sk-toggleable__label {background-color: #d4ebff;}#sk-container-id-1 div.sk-label input.sk-toggleable__control:checked~label.sk-toggleable__label {background-color: #d4ebff;}#sk-container-id-1 input.sk-hidden--visually {border: 0;clip: rect(1px 1px 1px 1px);clip: rect(1px, 1px, 1px, 1px);height: 1px;margin: -1px;overflow: hidden;padding: 0;position: absolute;width: 1px;}#sk-container-id-1 div.sk-estimator {font-family: monospace;background-color: #f0f8ff;border: 1px dotted black;border-radius: 0.25em;box-sizing: border-box;margin-bottom: 0.5em;}#sk-container-id-1 div.sk-estimator:hover {background-color: #d4ebff;}#sk-container-id-1 div.sk-parallel-item::after {content: \"\";width: 100%;border-bottom: 1px solid gray;flex-grow: 1;}#sk-container-id-1 div.sk-label:hover label.sk-toggleable__label {background-color: #d4ebff;}#sk-container-id-1 div.sk-serial::before {content: \"\";position: absolute;border-left: 1px solid gray;box-sizing: border-box;top: 0;bottom: 0;left: 50%;z-index: 0;}#sk-container-id-1 div.sk-serial {display: flex;flex-direction: column;align-items: center;background-color: white;padding-right: 0.2em;padding-left: 0.2em;position: relative;}#sk-container-id-1 div.sk-item {position: relative;z-index: 1;}#sk-container-id-1 div.sk-parallel {display: flex;align-items: stretch;justify-content: center;background-color: white;position: relative;}#sk-container-id-1 div.sk-item::before, #sk-container-id-1 div.sk-parallel-item::before {content: \"\";position: absolute;border-left: 1px solid gray;box-sizing: border-box;top: 0;bottom: 0;left: 50%;z-index: -1;}#sk-container-id-1 div.sk-parallel-item {display: flex;flex-direction: column;z-index: 1;position: relative;background-color: white;}#sk-container-id-1 div.sk-parallel-item:first-child::after {align-self: flex-end;width: 50%;}#sk-container-id-1 div.sk-parallel-item:last-child::after {align-self: flex-start;width: 50%;}#sk-container-id-1 div.sk-parallel-item:only-child::after {width: 0;}#sk-container-id-1 div.sk-dashed-wrapped {border: 1px dashed gray;margin: 0 0.4em 0.5em 0.4em;box-sizing: border-box;padding-bottom: 0.4em;background-color: white;}#sk-container-id-1 div.sk-label label {font-family: monospace;font-weight: bold;display: inline-block;line-height: 1.2em;}#sk-container-id-1 div.sk-label-container {text-align: center;}#sk-container-id-1 div.sk-container {/* jupyter's `normalize.less` sets `[hidden] { display: none; }` but bootstrap.min.css set `[hidden] { display: none !important; }` so we also need the `!important` here to be able to override the default hidden behavior on the sphinx rendered scikit-learn.org. See: https://github.com/scikit-learn/scikit-learn/issues/21755 */display: inline-block !important;position: relative;}#sk-container-id-1 div.sk-text-repr-fallback {display: none;}</style><div id=\"sk-container-id-1\" class=\"sk-top-container\"><div class=\"sk-text-repr-fallback\"><pre>LogisticRegression(random_state=1, solver=&#x27;liblinear&#x27;)</pre><b>In a Jupyter environment, please rerun this cell to show the HTML representation or trust the notebook. <br />On GitHub, the HTML representation is unable to render, please try loading this page with nbviewer.org.</b></div><div class=\"sk-container\" hidden><div class=\"sk-item\"><div class=\"sk-estimator sk-toggleable\"><input class=\"sk-toggleable__control sk-hidden--visually\" id=\"sk-estimator-id-1\" type=\"checkbox\" checked><label for=\"sk-estimator-id-1\" class=\"sk-toggleable__label sk-toggleable__label-arrow\">LogisticRegression</label><div class=\"sk-toggleable__content\"><pre>LogisticRegression(random_state=1, solver=&#x27;liblinear&#x27;)</pre></div></div></div></div></div>"
      ],
      "text/plain": [
       "LogisticRegression(random_state=1, solver='liblinear')"
      ]
     },
     "execution_count": 7,
     "metadata": {},
     "output_type": "execute_result"
    }
   ],
   "source": [
    "model"
   ]
  },
  {
   "cell_type": "code",
   "execution_count": 8,
   "id": "38da533b-b65b-4244-9928-6181ec3c0176",
   "metadata": {},
   "outputs": [],
   "source": [
    "test_bidding = {'Auction_ID': 2185,\n",
    "  'Bidder_Tendency': 0.045454545,\n",
    "  'Bidding_Ratio': 0.025641026,\n",
    "  'Successive_Outbidding': 0.0,\n",
    "  'Last_Bidding': 0.0040856481,\n",
    "  'Auction_Bids': 0.538461538,\n",
    "  'Starting_Price_Average': 0.99935281,\n",
    "  'Early_Bidding': 0.0040856481,\n",
    "  'Winning_Ratio': 0.0,\n",
    "  'Auction_Duration': 5}"
   ]
  },
  {
   "cell_type": "code",
   "execution_count": 10,
   "id": "6380c979-a483-4e39-b828-4a6f10c292af",
   "metadata": {},
   "outputs": [],
   "source": [
    "X = dv.transform([test_bidding])"
   ]
  },
  {
   "cell_type": "code",
   "execution_count": 11,
   "id": "35344caf-ca77-40d0-8707-122e95ef7571",
   "metadata": {},
   "outputs": [],
   "source": [
    "y_pred = model.predict_proba(X)[0, 1]"
   ]
  },
  {
   "cell_type": "code",
   "execution_count": 13,
   "id": "90bdc469-b1b0-46ad-a6f2-736782959818",
   "metadata": {},
   "outputs": [
    {
     "name": "stdout",
     "output_type": "stream",
     "text": [
      "input: {'Auction_ID': 2185, 'Bidder_Tendency': 0.045454545, 'Bidding_Ratio': 0.025641026, 'Successive_Outbidding': 0.0, 'Last_Bidding': 0.0040856481, 'Auction_Bids': 0.538461538, 'Starting_Price_Average': 0.99935281, 'Early_Bidding': 0.0040856481, 'Winning_Ratio': 0.0, 'Auction_Duration': 5}\n",
      "output: 0.0020708928277582295\n"
     ]
    }
   ],
   "source": [
    "print('input:', test_bidding)\n",
    "print('output:', y_pred)"
   ]
  },
  {
   "cell_type": "code",
   "execution_count": null,
   "id": "4c952e30-e41e-4c8a-9825-322c6d0f868d",
   "metadata": {},
   "outputs": [],
   "source": [
    "# till here the model is saved and retrieved from the folder"
   ]
  },
  {
   "cell_type": "code",
   "execution_count": null,
   "id": "68bd9cee-02fb-496d-8b3e-b4fe9fdc743e",
   "metadata": {},
   "outputs": [],
   "source": []
  },
  {
   "cell_type": "code",
   "execution_count": null,
   "id": "cc5d999c-29b0-49fe-85fc-ca010a102156",
   "metadata": {},
   "outputs": [],
   "source": []
  },
  {
   "cell_type": "code",
   "execution_count": null,
   "id": "f0221476-abd3-44eb-8386-0945247de84a",
   "metadata": {},
   "outputs": [],
   "source": []
  },
  {
   "cell_type": "code",
   "execution_count": null,
   "id": "0d531a55-76e6-4e60-85f0-9f825299e36b",
   "metadata": {},
   "outputs": [],
   "source": []
  },
  {
   "cell_type": "markdown",
   "id": "eea5557f-4fcc-49cc-a249-a13775748cae",
   "metadata": {},
   "source": [
    "# References:\n",
    "\n",
    "* https://github.com/alexeygrigorev/mlbookcamp-code/blob/master/chapter-03-churn-prediction/03-churn.ipynb"
   ]
  },
  {
   "cell_type": "code",
   "execution_count": null,
   "id": "5569eb6a-343d-4ab6-8c6c-fd09761fddbe",
   "metadata": {},
   "outputs": [],
   "source": []
  }
 ],
 "metadata": {
  "kernelspec": {
   "display_name": "ml_zoomcamp_2022_capstone_one",
   "language": "python",
   "name": "ml_zoomcamp_2022_capstone_one"
  },
  "language_info": {
   "codemirror_mode": {
    "name": "ipython",
    "version": 3
   },
   "file_extension": ".py",
   "mimetype": "text/x-python",
   "name": "python",
   "nbconvert_exporter": "python",
   "pygments_lexer": "ipython3",
   "version": "3.9.13"
  }
 },
 "nbformat": 4,
 "nbformat_minor": 5
}
