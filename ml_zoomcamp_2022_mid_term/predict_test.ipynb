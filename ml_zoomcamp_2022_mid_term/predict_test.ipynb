{
 "cells": [
  {
   "cell_type": "code",
   "execution_count": 9,
   "id": "69e5c9b4-563d-4f4b-be80-1d389d84d56b",
   "metadata": {},
   "outputs": [],
   "source": [
    "import requests"
   ]
  },
  {
   "cell_type": "code",
   "execution_count": 10,
   "id": "065129da-6e27-452a-a591-0b2a7316b789",
   "metadata": {},
   "outputs": [],
   "source": [
    "# to test the model is loaded and working properly or not\n",
    "customer_id = 'pkn_2022'\n",
    "customer = {'age': '26-39',\n",
    "  'gender': 'male',\n",
    "  'driving_experience': '0-9y',\n",
    "  'education': 'none',\n",
    "  'income': 'middle_class',\n",
    "  'vehicle_ownership': 1.0,\n",
    "  'married': 1.0,\n",
    "  'children': 0.0,\n",
    "  'postal_code': 10238,\n",
    "  'speeding_violations': 2,\n",
    "  'duis': 0,\n",
    "  'past_accidents': 0,\n",
    "  'vehicle_year': 'after_2015',\n",
    "  'type_of_vehicle': 'sports_car',\n",
    "  'id': 18647,\n",
    "  'credit_score': 0.7179927843792123,\n",
    "  'annual_mileage': 9000.0}"
   ]
  },
  {
   "cell_type": "code",
   "execution_count": 11,
   "id": "0860141f-09c2-4257-a68a-f34265eb207c",
   "metadata": {},
   "outputs": [],
   "source": [
    "url = 'http://localhost:9696/predict'"
   ]
  },
  {
   "cell_type": "code",
   "execution_count": 12,
   "id": "110ded09-c9e6-4434-a183-4bd3b96fc755",
   "metadata": {},
   "outputs": [
    {
     "name": "stdout",
     "output_type": "stream",
     "text": [
      "{'accept_or_reject': 'No', 'decision_probability': 0.4484685581863869}\n"
     ]
    }
   ],
   "source": [
    "response = requests.post(url, json=customer).json()\n",
    "print(response)"
   ]
  },
  {
   "cell_type": "code",
   "execution_count": 13,
   "id": "4979e1d0-1125-4c69-bc1b-6358c9cfd4d8",
   "metadata": {},
   "outputs": [
    {
     "name": "stdout",
     "output_type": "stream",
     "text": [
      "Sorry :( , the customer with customer_id: pkn_2022 is rejected for the insurance claims\n"
     ]
    }
   ],
   "source": [
    "if response['accept_or_reject']=='Yes':\n",
    "    print(f' the customer with customer_id: {customer_id} is accepted for the insurance claims')\n",
    "else:\n",
    "    print(f'Sorry :( , the customer with customer_id: {customer_id} is rejected for the insurance claims')"
   ]
  },
  {
   "cell_type": "code",
   "execution_count": null,
   "id": "f6989a9d-3589-41b2-b867-85a1e9f1a4bc",
   "metadata": {},
   "outputs": [],
   "source": []
  }
 ],
 "metadata": {
  "kernelspec": {
   "display_name": "ml_zoomcamp_mid_term",
   "language": "python",
   "name": "ml_zoomcamp_mid_term"
  },
  "language_info": {
   "codemirror_mode": {
    "name": "ipython",
    "version": 3
   },
   "file_extension": ".py",
   "mimetype": "text/x-python",
   "name": "python",
   "nbconvert_exporter": "python",
   "pygments_lexer": "ipython3",
   "version": "3.8.13"
  }
 },
 "nbformat": 4,
 "nbformat_minor": 5
}
