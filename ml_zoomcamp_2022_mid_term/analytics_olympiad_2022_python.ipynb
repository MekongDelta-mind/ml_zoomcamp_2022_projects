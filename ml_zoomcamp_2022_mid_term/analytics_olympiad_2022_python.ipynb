{
 "cells": [
  {
   "cell_type": "markdown",
   "id": "a3dd6490-504b-4472-a835-37f35606c93c",
   "metadata": {
    "tags": []
   },
   "source": [
    "# Business and Problem Statement Analysis"
   ]
  },
  {
   "cell_type": "markdown",
   "id": "200e7bfb-f478-4d85-8699-257dcc3195f3",
   "metadata": {},
   "source": [
    "Shiv Nadar Institution of Eminence is a student centric, multidisciplinary and research focused university offering a wide range of academic programs at the Undergraduate, Masters and Doctoral levels. The University was set up in 2011 by the Shiv Nadar Foundation, a philanthropic foundation established by Mr. Shiv Nadar, founder of HCL. In the NIRF (Government’s National Institutional Ranking Framework), the University has been the youngest institution in the ‘top 100’ overall list.\n",
    "\n",
    "The university’s Academy of Continuing Education aims to facilitate best-in-class knowledge, practices and skill development offerings to the growing ecosystem of lifetime learners and leaders, both within and outside the university. With distinguished academics as the university’s faculty members and programme instructors, the Academy of Continuing Education offers uniquely crafted programmes that are delivered innovatively, bringing \n",
    "together the best of the university’s rich intellectual resources.\n",
    "\n",
    "The university aims to help students prepare for today as well as their future through its unique certification programme in data sciences and \n",
    "business analytics. The collaboration between the Academy of Continuing Education at Shiv Nadar Institution of Eminence and MachineHack hopes to\n",
    " strengthen the data science community in India and pave the way for innovation in business analytics.\n",
    "\n"
   ]
  },
  {
   "cell_type": "markdown",
   "id": "8f4d613a-4632-4490-a72c-cf58ae4f3d43",
   "metadata": {
    "tags": []
   },
   "source": [
    "### About Dataset and problem:"
   ]
  },
  {
   "cell_type": "markdown",
   "id": "a4a2a83f-5678-4db1-8147-125db544cb59",
   "metadata": {},
   "source": [
    "The Vehicle Insurance business is a multi-billion dollar industry. Every year millions and millions of premiums are paid, and a huge amount of \n",
    "claims also pile up.\n",
    "\n",
    "You have to step into the shoes of a data scientist who is building models to help an insurance company understand which claims are worth rejecting and the claims which should be accepted for reimbursement.\n",
    "\n",
    "You are given a rich dataset consisting of thousands of rows of past records, which you can use to  learn more about your customers’ behaviours. For example, you are supposed to create an ML model to look at a case of an insurance claim and decide whether to reject or accept it.\n",
    "\n",
    "Dimensions: (to be added later) Columns: ['ID', 'AGE', 'GENDER', 'DRIVING_EXPERIENCE', 'EDUCATION', 'INCOME', 'CREDIT_SCORE', 'VEHICLE_OWNERSHIP', 'VEHICLE_YEAR', 'MARRIED', 'CHILDREN', 'POSTAL_CODE', 'ANNUAL_MILEAGE', 'SPEEDING_VIOLATIONS', 'DUIS', 'PAST_ACCIDENTS', 'OUTCOME', 'TYPE_OF_VEHICLE'] \n",
    "\n",
    "Learn and predict the OUTCOME variable.\n"
   ]
  },
  {
   "cell_type": "markdown",
   "id": "89e792cc-a129-4179-8154-e0a91a84eae5",
   "metadata": {},
   "source": [
    "### THe main motive of this project is to learn the deployment part of the model\n",
    "\n",
    "* The main focus would be to train a model\n",
    "* try deploying it to the access it using the url."
   ]
  },
  {
   "cell_type": "markdown",
   "id": "5a002e41-60a9-4b2c-a3c9-50e0aeedea0c",
   "metadata": {
    "tags": []
   },
   "source": [
    "### Evaluation Criteria"
   ]
  },
  {
   "cell_type": "markdown",
   "id": "87d6bee9-ca7e-4c7e-913b-40d709c77f9a",
   "metadata": {},
   "source": [
    "**The submission will be evaluated using the [Log Loss metric](https://scikit-learn.org/stable/modules/generated/sklearn.metrics.log_loss.html#sklearn-metrics-log-loss). One can use [sklearn.metric.log_loss](https://scikit-learn.org/stable/modules/generated/sklearn.metrics.log_loss.html#sklearn-metrics-log-loss) to calculate the same**\n",
    "\n",
    "This hackathon supports private and public leaderboards\n",
    "\n",
    "The public leaderboard is evaluated on 30% of Test data\n",
    "\n",
    "The private leaderboard will be made available at the end of the hackathon, which will be evaluated on 100% Test data\n",
    "\n",
    "Final winners will be judged on the following in the final jury round:\n",
    "\n",
    "- 30% Business Outcome/Impact,\n",
    "- 20% Innovative + Creativity\n",
    "- 20% Algorithm and ML approach,\n",
    "- 15% Statistically analysis,\n",
    "- 15% Presentation + Communication"
   ]
  },
  {
   "cell_type": "markdown",
   "id": "c1127efe-9597-4eeb-b7e7-dd1c03672bdd",
   "metadata": {
    "tags": []
   },
   "source": [
    "# Download the dataset"
   ]
  },
  {
   "cell_type": "code",
   "execution_count": 1,
   "id": "881bf7ce-8b41-4909-b2b8-54cfc58aaf63",
   "metadata": {},
   "outputs": [],
   "source": [
    "import pandas as pd\n",
    "import numpy as np\n",
    "\n",
    "#from pandas_profiling import ProfileReport\n",
    "import seaborn as sns\n",
    "from matplotlib import pyplot as plt\n",
    "%matplotlib inline"
   ]
  },
  {
   "cell_type": "code",
   "execution_count": 2,
   "id": "5f0ac4bb-1657-448d-a7b5-16731b08e1f5",
   "metadata": {},
   "outputs": [],
   "source": [
    "df_train_full = pd.read_csv('train.csv')"
   ]
  },
  {
   "cell_type": "code",
   "execution_count": 3,
   "id": "7e6e39bc-f57d-40ea-998c-c08c9812b710",
   "metadata": {
    "tags": []
   },
   "outputs": [],
   "source": [
    "# takes too much time\n",
    "# # The data profiling is okay but it has too much description to work with\n",
    "# profile = ProfileReport(df_train_full)\n",
    "# profile"
   ]
  },
  {
   "cell_type": "markdown",
   "id": "cdbd6c73-7d00-4992-bf4c-3134126e3fba",
   "metadata": {
    "tags": []
   },
   "source": [
    "# Data Preparartion"
   ]
  },
  {
   "cell_type": "code",
   "execution_count": 4,
   "id": "9d695202-c710-4b98-9326-d975961b0c90",
   "metadata": {},
   "outputs": [
    {
     "data": {
      "text/html": [
       "<div>\n",
       "<style scoped>\n",
       "    .dataframe tbody tr th:only-of-type {\n",
       "        vertical-align: middle;\n",
       "    }\n",
       "\n",
       "    .dataframe tbody tr th {\n",
       "        vertical-align: top;\n",
       "    }\n",
       "\n",
       "    .dataframe thead th {\n",
       "        text-align: right;\n",
       "    }\n",
       "</style>\n",
       "<table border=\"1\" class=\"dataframe\">\n",
       "  <thead>\n",
       "    <tr style=\"text-align: right;\">\n",
       "      <th></th>\n",
       "      <th>0</th>\n",
       "      <th>1</th>\n",
       "      <th>2</th>\n",
       "      <th>3</th>\n",
       "      <th>4</th>\n",
       "    </tr>\n",
       "  </thead>\n",
       "  <tbody>\n",
       "    <tr>\n",
       "      <th>ID</th>\n",
       "      <td>816393</td>\n",
       "      <td>251762</td>\n",
       "      <td>481952</td>\n",
       "      <td>3506</td>\n",
       "      <td>498013</td>\n",
       "    </tr>\n",
       "    <tr>\n",
       "      <th>AGE</th>\n",
       "      <td>40-64</td>\n",
       "      <td>26-39</td>\n",
       "      <td>40-64</td>\n",
       "      <td>40-64</td>\n",
       "      <td>40-64</td>\n",
       "    </tr>\n",
       "    <tr>\n",
       "      <th>GENDER</th>\n",
       "      <td>female</td>\n",
       "      <td>male</td>\n",
       "      <td>male</td>\n",
       "      <td>male</td>\n",
       "      <td>female</td>\n",
       "    </tr>\n",
       "    <tr>\n",
       "      <th>DRIVING_EXPERIENCE</th>\n",
       "      <td>20-29y</td>\n",
       "      <td>20-29y</td>\n",
       "      <td>20-29y</td>\n",
       "      <td>20-29y</td>\n",
       "      <td>20-29y</td>\n",
       "    </tr>\n",
       "    <tr>\n",
       "      <th>EDUCATION</th>\n",
       "      <td>university</td>\n",
       "      <td>high school</td>\n",
       "      <td>none</td>\n",
       "      <td>high school</td>\n",
       "      <td>none</td>\n",
       "    </tr>\n",
       "    <tr>\n",
       "      <th>INCOME</th>\n",
       "      <td>middle class</td>\n",
       "      <td>middle class</td>\n",
       "      <td>middle class</td>\n",
       "      <td>upper class</td>\n",
       "      <td>working class</td>\n",
       "    </tr>\n",
       "    <tr>\n",
       "      <th>CREDIT_SCORE</th>\n",
       "      <td>0.63805</td>\n",
       "      <td>0.475741</td>\n",
       "      <td>0.839817</td>\n",
       "      <td>0.682527</td>\n",
       "      <td>0.572184</td>\n",
       "    </tr>\n",
       "    <tr>\n",
       "      <th>VEHICLE_OWNERSHIP</th>\n",
       "      <td>0.0</td>\n",
       "      <td>1.0</td>\n",
       "      <td>1.0</td>\n",
       "      <td>1.0</td>\n",
       "      <td>1.0</td>\n",
       "    </tr>\n",
       "    <tr>\n",
       "      <th>VEHICLE_YEAR</th>\n",
       "      <td>after 2015</td>\n",
       "      <td>before 2015</td>\n",
       "      <td>before 2015</td>\n",
       "      <td>before 2015</td>\n",
       "      <td>after 2015</td>\n",
       "    </tr>\n",
       "    <tr>\n",
       "      <th>MARRIED</th>\n",
       "      <td>0.0</td>\n",
       "      <td>1.0</td>\n",
       "      <td>1.0</td>\n",
       "      <td>0.0</td>\n",
       "      <td>1.0</td>\n",
       "    </tr>\n",
       "    <tr>\n",
       "      <th>CHILDREN</th>\n",
       "      <td>0.0</td>\n",
       "      <td>0.0</td>\n",
       "      <td>1.0</td>\n",
       "      <td>1.0</td>\n",
       "      <td>1.0</td>\n",
       "    </tr>\n",
       "    <tr>\n",
       "      <th>POSTAL_CODE</th>\n",
       "      <td>37379</td>\n",
       "      <td>10238</td>\n",
       "      <td>10238</td>\n",
       "      <td>92099</td>\n",
       "      <td>32122</td>\n",
       "    </tr>\n",
       "    <tr>\n",
       "      <th>ANNUAL_MILEAGE</th>\n",
       "      <td>11000.0</td>\n",
       "      <td>9000.0</td>\n",
       "      <td>12000.0</td>\n",
       "      <td>6000.0</td>\n",
       "      <td>15000.0</td>\n",
       "    </tr>\n",
       "    <tr>\n",
       "      <th>SPEEDING_VIOLATIONS</th>\n",
       "      <td>0</td>\n",
       "      <td>0</td>\n",
       "      <td>0</td>\n",
       "      <td>1</td>\n",
       "      <td>0</td>\n",
       "    </tr>\n",
       "    <tr>\n",
       "      <th>DUIS</th>\n",
       "      <td>0</td>\n",
       "      <td>0</td>\n",
       "      <td>0</td>\n",
       "      <td>0</td>\n",
       "      <td>0</td>\n",
       "    </tr>\n",
       "    <tr>\n",
       "      <th>PAST_ACCIDENTS</th>\n",
       "      <td>0</td>\n",
       "      <td>0</td>\n",
       "      <td>0</td>\n",
       "      <td>0</td>\n",
       "      <td>1</td>\n",
       "    </tr>\n",
       "    <tr>\n",
       "      <th>OUTCOME</th>\n",
       "      <td>0.0</td>\n",
       "      <td>1.0</td>\n",
       "      <td>1.0</td>\n",
       "      <td>1.0</td>\n",
       "      <td>0.0</td>\n",
       "    </tr>\n",
       "    <tr>\n",
       "      <th>TYPE_OF_VEHICLE</th>\n",
       "      <td>Sports Car</td>\n",
       "      <td>HatchBack</td>\n",
       "      <td>Sedan</td>\n",
       "      <td>Sedan</td>\n",
       "      <td>Sedan</td>\n",
       "    </tr>\n",
       "  </tbody>\n",
       "</table>\n",
       "</div>"
      ],
      "text/plain": [
       "                                0             1             2            3  \\\n",
       "ID                         816393        251762        481952         3506   \n",
       "AGE                         40-64         26-39         40-64        40-64   \n",
       "GENDER                     female          male          male         male   \n",
       "DRIVING_EXPERIENCE         20-29y        20-29y        20-29y       20-29y   \n",
       "EDUCATION              university   high school          none  high school   \n",
       "INCOME               middle class  middle class  middle class  upper class   \n",
       "CREDIT_SCORE              0.63805      0.475741      0.839817     0.682527   \n",
       "VEHICLE_OWNERSHIP             0.0           1.0           1.0          1.0   \n",
       "VEHICLE_YEAR           after 2015   before 2015   before 2015  before 2015   \n",
       "MARRIED                       0.0           1.0           1.0          0.0   \n",
       "CHILDREN                      0.0           0.0           1.0          1.0   \n",
       "POSTAL_CODE                 37379         10238         10238        92099   \n",
       "ANNUAL_MILEAGE            11000.0        9000.0       12000.0       6000.0   \n",
       "SPEEDING_VIOLATIONS             0             0             0            1   \n",
       "DUIS                            0             0             0            0   \n",
       "PAST_ACCIDENTS                  0             0             0            0   \n",
       "OUTCOME                       0.0           1.0           1.0          1.0   \n",
       "TYPE_OF_VEHICLE        Sports Car     HatchBack         Sedan        Sedan   \n",
       "\n",
       "                                 4  \n",
       "ID                          498013  \n",
       "AGE                          40-64  \n",
       "GENDER                      female  \n",
       "DRIVING_EXPERIENCE          20-29y  \n",
       "EDUCATION                     none  \n",
       "INCOME               working class  \n",
       "CREDIT_SCORE              0.572184  \n",
       "VEHICLE_OWNERSHIP              1.0  \n",
       "VEHICLE_YEAR            after 2015  \n",
       "MARRIED                        1.0  \n",
       "CHILDREN                       1.0  \n",
       "POSTAL_CODE                  32122  \n",
       "ANNUAL_MILEAGE             15000.0  \n",
       "SPEEDING_VIOLATIONS              0  \n",
       "DUIS                             0  \n",
       "PAST_ACCIDENTS                   1  \n",
       "OUTCOME                        0.0  \n",
       "TYPE_OF_VEHICLE              Sedan  "
      ]
     },
     "execution_count": 4,
     "metadata": {},
     "output_type": "execute_result"
    }
   ],
   "source": [
    "df_train_full.head().T"
   ]
  },
  {
   "cell_type": "code",
   "execution_count": 5,
   "id": "245f8eb3-da3b-4b74-bac8-ae44f4367fc5",
   "metadata": {},
   "outputs": [
    {
     "data": {
      "text/plain": [
       "ID                       int64\n",
       "AGE                     object\n",
       "GENDER                  object\n",
       "DRIVING_EXPERIENCE      object\n",
       "EDUCATION               object\n",
       "INCOME                  object\n",
       "CREDIT_SCORE           float64\n",
       "VEHICLE_OWNERSHIP      float64\n",
       "VEHICLE_YEAR            object\n",
       "MARRIED                float64\n",
       "CHILDREN               float64\n",
       "POSTAL_CODE              int64\n",
       "ANNUAL_MILEAGE         float64\n",
       "SPEEDING_VIOLATIONS      int64\n",
       "DUIS                     int64\n",
       "PAST_ACCIDENTS           int64\n",
       "OUTCOME                float64\n",
       "TYPE_OF_VEHICLE         object\n",
       "dtype: object"
      ]
     },
     "execution_count": 5,
     "metadata": {},
     "output_type": "execute_result"
    }
   ],
   "source": [
    "df_train_full.dtypes"
   ]
  },
  {
   "cell_type": "code",
   "execution_count": 6,
   "id": "c01dddc4-4588-4aa1-acb1-d30588188849",
   "metadata": {},
   "outputs": [
    {
     "data": {
      "text/plain": [
       "array([0., 1.])"
      ]
     },
     "execution_count": 6,
     "metadata": {},
     "output_type": "execute_result"
    }
   ],
   "source": [
    "df_train_full['OUTCOME'].unique()"
   ]
  },
  {
   "cell_type": "code",
   "execution_count": 7,
   "id": "d80b981b-d9d0-4bed-9894-5707e397df31",
   "metadata": {},
   "outputs": [],
   "source": [
    "df_train_full['OUTCOME'] = df_train_full['OUTCOME'].astype(int)"
   ]
  },
  {
   "cell_type": "code",
   "execution_count": 8,
   "id": "840e16be-5290-4633-9488-7b593b5a2354",
   "metadata": {
    "tags": []
   },
   "outputs": [
    {
     "data": {
      "text/plain": [
       "ID                       int64\n",
       "AGE                     object\n",
       "GENDER                  object\n",
       "DRIVING_EXPERIENCE      object\n",
       "EDUCATION               object\n",
       "INCOME                  object\n",
       "CREDIT_SCORE           float64\n",
       "VEHICLE_OWNERSHIP      float64\n",
       "VEHICLE_YEAR            object\n",
       "MARRIED                float64\n",
       "CHILDREN               float64\n",
       "POSTAL_CODE              int64\n",
       "ANNUAL_MILEAGE         float64\n",
       "SPEEDING_VIOLATIONS      int64\n",
       "DUIS                     int64\n",
       "PAST_ACCIDENTS           int64\n",
       "OUTCOME                  int64\n",
       "TYPE_OF_VEHICLE         object\n",
       "dtype: object"
      ]
     },
     "execution_count": 8,
     "metadata": {},
     "output_type": "execute_result"
    }
   ],
   "source": [
    "df_train_full.dtypes"
   ]
  },
  {
   "cell_type": "code",
   "execution_count": 9,
   "id": "9d9637d0-e402-45ba-bfec-f5ed4271f24d",
   "metadata": {},
   "outputs": [],
   "source": [
    "#converting the columns names without spaces\n",
    "df_train_full.columns = df_train_full.columns.str.lower().str.replace(' ', '_')\n",
    "\n",
    "# converting the string values in columns by removing the space between them\n",
    "string_columns = list(df_train_full.dtypes[df_train_full.dtypes == 'object'].index)\n",
    "\n",
    "for col in string_columns:\n",
    "    df_train_full[col] = df_train_full[col].str.lower().str.replace(' ', '_')"
   ]
  },
  {
   "cell_type": "code",
   "execution_count": 10,
   "id": "7c73ee88-ebc4-466c-9b7c-1fee36751b44",
   "metadata": {},
   "outputs": [
    {
     "data": {
      "text/html": [
       "<div>\n",
       "<style scoped>\n",
       "    .dataframe tbody tr th:only-of-type {\n",
       "        vertical-align: middle;\n",
       "    }\n",
       "\n",
       "    .dataframe tbody tr th {\n",
       "        vertical-align: top;\n",
       "    }\n",
       "\n",
       "    .dataframe thead th {\n",
       "        text-align: right;\n",
       "    }\n",
       "</style>\n",
       "<table border=\"1\" class=\"dataframe\">\n",
       "  <thead>\n",
       "    <tr style=\"text-align: right;\">\n",
       "      <th></th>\n",
       "      <th>0</th>\n",
       "      <th>1</th>\n",
       "      <th>2</th>\n",
       "      <th>3</th>\n",
       "      <th>4</th>\n",
       "    </tr>\n",
       "  </thead>\n",
       "  <tbody>\n",
       "    <tr>\n",
       "      <th>id</th>\n",
       "      <td>816393</td>\n",
       "      <td>251762</td>\n",
       "      <td>481952</td>\n",
       "      <td>3506</td>\n",
       "      <td>498013</td>\n",
       "    </tr>\n",
       "    <tr>\n",
       "      <th>age</th>\n",
       "      <td>40-64</td>\n",
       "      <td>26-39</td>\n",
       "      <td>40-64</td>\n",
       "      <td>40-64</td>\n",
       "      <td>40-64</td>\n",
       "    </tr>\n",
       "    <tr>\n",
       "      <th>gender</th>\n",
       "      <td>female</td>\n",
       "      <td>male</td>\n",
       "      <td>male</td>\n",
       "      <td>male</td>\n",
       "      <td>female</td>\n",
       "    </tr>\n",
       "    <tr>\n",
       "      <th>driving_experience</th>\n",
       "      <td>20-29y</td>\n",
       "      <td>20-29y</td>\n",
       "      <td>20-29y</td>\n",
       "      <td>20-29y</td>\n",
       "      <td>20-29y</td>\n",
       "    </tr>\n",
       "    <tr>\n",
       "      <th>education</th>\n",
       "      <td>university</td>\n",
       "      <td>high_school</td>\n",
       "      <td>none</td>\n",
       "      <td>high_school</td>\n",
       "      <td>none</td>\n",
       "    </tr>\n",
       "    <tr>\n",
       "      <th>income</th>\n",
       "      <td>middle_class</td>\n",
       "      <td>middle_class</td>\n",
       "      <td>middle_class</td>\n",
       "      <td>upper_class</td>\n",
       "      <td>working_class</td>\n",
       "    </tr>\n",
       "    <tr>\n",
       "      <th>credit_score</th>\n",
       "      <td>0.63805</td>\n",
       "      <td>0.475741</td>\n",
       "      <td>0.839817</td>\n",
       "      <td>0.682527</td>\n",
       "      <td>0.572184</td>\n",
       "    </tr>\n",
       "    <tr>\n",
       "      <th>vehicle_ownership</th>\n",
       "      <td>0.0</td>\n",
       "      <td>1.0</td>\n",
       "      <td>1.0</td>\n",
       "      <td>1.0</td>\n",
       "      <td>1.0</td>\n",
       "    </tr>\n",
       "    <tr>\n",
       "      <th>vehicle_year</th>\n",
       "      <td>after_2015</td>\n",
       "      <td>before_2015</td>\n",
       "      <td>before_2015</td>\n",
       "      <td>before_2015</td>\n",
       "      <td>after_2015</td>\n",
       "    </tr>\n",
       "    <tr>\n",
       "      <th>married</th>\n",
       "      <td>0.0</td>\n",
       "      <td>1.0</td>\n",
       "      <td>1.0</td>\n",
       "      <td>0.0</td>\n",
       "      <td>1.0</td>\n",
       "    </tr>\n",
       "    <tr>\n",
       "      <th>children</th>\n",
       "      <td>0.0</td>\n",
       "      <td>0.0</td>\n",
       "      <td>1.0</td>\n",
       "      <td>1.0</td>\n",
       "      <td>1.0</td>\n",
       "    </tr>\n",
       "    <tr>\n",
       "      <th>postal_code</th>\n",
       "      <td>37379</td>\n",
       "      <td>10238</td>\n",
       "      <td>10238</td>\n",
       "      <td>92099</td>\n",
       "      <td>32122</td>\n",
       "    </tr>\n",
       "    <tr>\n",
       "      <th>annual_mileage</th>\n",
       "      <td>11000.0</td>\n",
       "      <td>9000.0</td>\n",
       "      <td>12000.0</td>\n",
       "      <td>6000.0</td>\n",
       "      <td>15000.0</td>\n",
       "    </tr>\n",
       "    <tr>\n",
       "      <th>speeding_violations</th>\n",
       "      <td>0</td>\n",
       "      <td>0</td>\n",
       "      <td>0</td>\n",
       "      <td>1</td>\n",
       "      <td>0</td>\n",
       "    </tr>\n",
       "    <tr>\n",
       "      <th>duis</th>\n",
       "      <td>0</td>\n",
       "      <td>0</td>\n",
       "      <td>0</td>\n",
       "      <td>0</td>\n",
       "      <td>0</td>\n",
       "    </tr>\n",
       "    <tr>\n",
       "      <th>past_accidents</th>\n",
       "      <td>0</td>\n",
       "      <td>0</td>\n",
       "      <td>0</td>\n",
       "      <td>0</td>\n",
       "      <td>1</td>\n",
       "    </tr>\n",
       "    <tr>\n",
       "      <th>outcome</th>\n",
       "      <td>0</td>\n",
       "      <td>1</td>\n",
       "      <td>1</td>\n",
       "      <td>1</td>\n",
       "      <td>0</td>\n",
       "    </tr>\n",
       "    <tr>\n",
       "      <th>type_of_vehicle</th>\n",
       "      <td>sports_car</td>\n",
       "      <td>hatchback</td>\n",
       "      <td>sedan</td>\n",
       "      <td>sedan</td>\n",
       "      <td>sedan</td>\n",
       "    </tr>\n",
       "  </tbody>\n",
       "</table>\n",
       "</div>"
      ],
      "text/plain": [
       "                                0             1             2            3  \\\n",
       "id                         816393        251762        481952         3506   \n",
       "age                         40-64         26-39         40-64        40-64   \n",
       "gender                     female          male          male         male   \n",
       "driving_experience         20-29y        20-29y        20-29y       20-29y   \n",
       "education              university   high_school          none  high_school   \n",
       "income               middle_class  middle_class  middle_class  upper_class   \n",
       "credit_score              0.63805      0.475741      0.839817     0.682527   \n",
       "vehicle_ownership             0.0           1.0           1.0          1.0   \n",
       "vehicle_year           after_2015   before_2015   before_2015  before_2015   \n",
       "married                       0.0           1.0           1.0          0.0   \n",
       "children                      0.0           0.0           1.0          1.0   \n",
       "postal_code                 37379         10238         10238        92099   \n",
       "annual_mileage            11000.0        9000.0       12000.0       6000.0   \n",
       "speeding_violations             0             0             0            1   \n",
       "duis                            0             0             0            0   \n",
       "past_accidents                  0             0             0            0   \n",
       "outcome                         0             1             1            1   \n",
       "type_of_vehicle        sports_car     hatchback         sedan        sedan   \n",
       "\n",
       "                                 4  \n",
       "id                          498013  \n",
       "age                          40-64  \n",
       "gender                      female  \n",
       "driving_experience          20-29y  \n",
       "education                     none  \n",
       "income               working_class  \n",
       "credit_score              0.572184  \n",
       "vehicle_ownership              1.0  \n",
       "vehicle_year            after_2015  \n",
       "married                        1.0  \n",
       "children                       1.0  \n",
       "postal_code                  32122  \n",
       "annual_mileage             15000.0  \n",
       "speeding_violations              0  \n",
       "duis                             0  \n",
       "past_accidents                   1  \n",
       "outcome                          0  \n",
       "type_of_vehicle              sedan  "
      ]
     },
     "execution_count": 10,
     "metadata": {},
     "output_type": "execute_result"
    }
   ],
   "source": [
    "df_train_full.head().T"
   ]
  },
  {
   "cell_type": "code",
   "execution_count": 11,
   "id": "33a97b02-7d28-4cfc-af06-3e91c7b5ba7b",
   "metadata": {},
   "outputs": [
    {
     "data": {
      "text/plain": [
       "age                   object\n",
       "gender                object\n",
       "driving_experience    object\n",
       "education             object\n",
       "income                object\n",
       "vehicle_year          object\n",
       "type_of_vehicle       object\n",
       "dtype: object"
      ]
     },
     "execution_count": 11,
     "metadata": {},
     "output_type": "execute_result"
    }
   ],
   "source": [
    "df_train_full.dtypes[df_train_full.dtypes == 'object']"
   ]
  },
  {
   "cell_type": "code",
   "execution_count": 12,
   "id": "0d3a5b0c-c2aa-4740-bbce-803e58ed2bc0",
   "metadata": {},
   "outputs": [],
   "source": [
    "# separating into categroical and numerical variables\n",
    "categorical = ['age', 'gender', 'driving_experience', 'education', 'income', 'vehicle_ownership', \n",
    "               'married', 'children', 'postal_code', 'speeding_violations', 'duis', 'past_accidents', \n",
    "               'vehicle_year', 'type_of_vehicle']\n",
    "numerical = [ col for col in df_train_full.columns if col not in categorical]\n",
    "\n",
    "(len(categorical) + len(numerical) ) == len(df_train_full.columns) #checking if any of the colums are left out\n",
    "\n",
    "numerical.remove('outcome')"
   ]
  },
  {
   "cell_type": "markdown",
   "id": "79a68bff-bd0b-4429-8b89-9c8571f2549e",
   "metadata": {
    "tags": []
   },
   "source": [
    "# Splitting the data into train,val as test data is already present\n",
    "\n",
    "This is done before EDA on teh train data because to copy the real life scenarios where you act as if the test data is not present with you"
   ]
  },
  {
   "cell_type": "code",
   "execution_count": 13,
   "id": "7d48ab3b-c5c2-4045-a8d8-f8dca092a1e4",
   "metadata": {},
   "outputs": [],
   "source": [
    "from sklearn.model_selection import train_test_split"
   ]
  },
  {
   "cell_type": "code",
   "execution_count": 14,
   "id": "74b6e8db-2677-4478-b5ae-3cd153317cc9",
   "metadata": {},
   "outputs": [],
   "source": [
    "# Split your data in train/val/test sets, with 60%/20%/20% distribution.\n",
    "train_df, val_df = train_test_split(df_train_full, test_size=0.2, random_state=1)"
   ]
  },
  {
   "cell_type": "code",
   "execution_count": 15,
   "id": "11aeeac5-0e95-4601-aa82-2e132b63e435",
   "metadata": {},
   "outputs": [],
   "source": [
    "test_df = pd.read_csv('test.csv')"
   ]
  },
  {
   "cell_type": "code",
   "execution_count": 16,
   "id": "5788ad1e-7cb2-4ad9-87ca-ba8c312210c9",
   "metadata": {},
   "outputs": [
    {
     "data": {
      "text/plain": [
       "(84000, 21000, 45000)"
      ]
     },
     "execution_count": 16,
     "metadata": {},
     "output_type": "execute_result"
    }
   ],
   "source": [
    "len(train_df), len(val_df), len(test_df)"
   ]
  },
  {
   "cell_type": "code",
   "execution_count": 17,
   "id": "f3fd2ca8-15bc-4c4d-bf91-56bbdd6142bc",
   "metadata": {},
   "outputs": [],
   "source": [
    "y_train = train_df.outcome.values\n",
    "y_val = val_df.outcome.values"
   ]
  },
  {
   "cell_type": "code",
   "execution_count": 18,
   "id": "92254270-9767-4a63-8f10-f40af224b2c8",
   "metadata": {},
   "outputs": [],
   "source": [
    "del train_df['outcome']\n",
    "del val_df['outcome']"
   ]
  },
  {
   "cell_type": "markdown",
   "id": "f1ad83fe-1947-4b53-968b-5e660b729eb6",
   "metadata": {
    "tags": []
   },
   "source": [
    "# Exploratory data analysis"
   ]
  },
  {
   "cell_type": "code",
   "execution_count": 19,
   "id": "f62d7bfa-0817-4950-9947-92b256247e1b",
   "metadata": {},
   "outputs": [
    {
     "data": {
      "text/plain": [
       "id                     0\n",
       "age                    0\n",
       "gender                 0\n",
       "driving_experience     0\n",
       "education              0\n",
       "income                 0\n",
       "credit_score           0\n",
       "vehicle_ownership      0\n",
       "vehicle_year           0\n",
       "married                0\n",
       "children               0\n",
       "postal_code            0\n",
       "annual_mileage         0\n",
       "speeding_violations    0\n",
       "duis                   0\n",
       "past_accidents         0\n",
       "outcome                0\n",
       "type_of_vehicle        0\n",
       "dtype: int64"
      ]
     },
     "execution_count": 19,
     "metadata": {},
     "output_type": "execute_result"
    }
   ],
   "source": [
    "df_train_full.isnull().sum()"
   ]
  },
  {
   "cell_type": "code",
   "execution_count": 20,
   "id": "15009b0f-c358-4908-ba54-91e1a9f55455",
   "metadata": {},
   "outputs": [
    {
     "data": {
      "text/plain": [
       "0    60622\n",
       "1    44378\n",
       "Name: outcome, dtype: int64"
      ]
     },
     "execution_count": 20,
     "metadata": {},
     "output_type": "execute_result"
    }
   ],
   "source": [
    "df_train_full['outcome'].value_counts()"
   ]
  },
  {
   "cell_type": "code",
   "execution_count": 21,
   "id": "8fa2c9f5-186d-46d2-9223-bd31d571c135",
   "metadata": {},
   "outputs": [
    {
     "data": {
      "text/plain": [
       "0    72.169048\n",
       "1    52.830952\n",
       "Name: outcome, dtype: float64"
      ]
     },
     "execution_count": 21,
     "metadata": {},
     "output_type": "execute_result"
    }
   ],
   "source": [
    "#@ counting % of each class\n",
    "df_train_full['outcome'].value_counts()*100/len(y_train)"
   ]
  },
  {
   "cell_type": "code",
   "execution_count": 22,
   "id": "98dfdfe5-03c9-48b0-9fa4-1e3ec962f166",
   "metadata": {},
   "outputs": [],
   "source": [
    "from IPython.display import display"
   ]
  },
  {
   "cell_type": "code",
   "execution_count": 23,
   "id": "05c80b77-276a-44ce-b619-7928a767af3e",
   "metadata": {},
   "outputs": [
    {
     "data": {
      "text/plain": [
       "0.42264761904761905"
      ]
     },
     "execution_count": 23,
     "metadata": {},
     "output_type": "execute_result"
    }
   ],
   "source": [
    "global_mean = df_train_full.outcome.mean()\n",
    "global_mean"
   ]
  },
  {
   "cell_type": "code",
   "execution_count": 24,
   "id": "8bb04e5b-59b6-46fb-a66e-e6465fa5937a",
   "metadata": {
    "tags": []
   },
   "outputs": [
    {
     "data": {
      "text/html": [
       "<div>\n",
       "<style scoped>\n",
       "    .dataframe tbody tr th:only-of-type {\n",
       "        vertical-align: middle;\n",
       "    }\n",
       "\n",
       "    .dataframe tbody tr th {\n",
       "        vertical-align: top;\n",
       "    }\n",
       "\n",
       "    .dataframe thead th {\n",
       "        text-align: right;\n",
       "    }\n",
       "</style>\n",
       "<table border=\"1\" class=\"dataframe\">\n",
       "  <thead>\n",
       "    <tr style=\"text-align: right;\">\n",
       "      <th></th>\n",
       "      <th>mean</th>\n",
       "      <th>diff</th>\n",
       "      <th>risk</th>\n",
       "    </tr>\n",
       "    <tr>\n",
       "      <th>age</th>\n",
       "      <th></th>\n",
       "      <th></th>\n",
       "      <th></th>\n",
       "    </tr>\n",
       "  </thead>\n",
       "  <tbody>\n",
       "    <tr>\n",
       "      <th>16-25</th>\n",
       "      <td>0.418324</td>\n",
       "      <td>-0.004324</td>\n",
       "      <td>0.989770</td>\n",
       "    </tr>\n",
       "    <tr>\n",
       "      <th>26-39</th>\n",
       "      <td>0.422969</td>\n",
       "      <td>0.000322</td>\n",
       "      <td>1.000761</td>\n",
       "    </tr>\n",
       "    <tr>\n",
       "      <th>40-64</th>\n",
       "      <td>0.425199</td>\n",
       "      <td>0.002551</td>\n",
       "      <td>1.006036</td>\n",
       "    </tr>\n",
       "    <tr>\n",
       "      <th>65+</th>\n",
       "      <td>0.422244</td>\n",
       "      <td>-0.000404</td>\n",
       "      <td>0.999045</td>\n",
       "    </tr>\n",
       "  </tbody>\n",
       "</table>\n",
       "</div>"
      ],
      "text/plain": [
       "           mean      diff      risk\n",
       "age                                \n",
       "16-25  0.418324 -0.004324  0.989770\n",
       "26-39  0.422969  0.000322  1.000761\n",
       "40-64  0.425199  0.002551  1.006036\n",
       "65+    0.422244 -0.000404  0.999045"
      ]
     },
     "metadata": {},
     "output_type": "display_data"
    },
    {
     "data": {
      "text/html": [
       "<div>\n",
       "<style scoped>\n",
       "    .dataframe tbody tr th:only-of-type {\n",
       "        vertical-align: middle;\n",
       "    }\n",
       "\n",
       "    .dataframe tbody tr th {\n",
       "        vertical-align: top;\n",
       "    }\n",
       "\n",
       "    .dataframe thead th {\n",
       "        text-align: right;\n",
       "    }\n",
       "</style>\n",
       "<table border=\"1\" class=\"dataframe\">\n",
       "  <thead>\n",
       "    <tr style=\"text-align: right;\">\n",
       "      <th></th>\n",
       "      <th>mean</th>\n",
       "      <th>diff</th>\n",
       "      <th>risk</th>\n",
       "    </tr>\n",
       "    <tr>\n",
       "      <th>gender</th>\n",
       "      <th></th>\n",
       "      <th></th>\n",
       "      <th></th>\n",
       "    </tr>\n",
       "  </thead>\n",
       "  <tbody>\n",
       "    <tr>\n",
       "      <th>female</th>\n",
       "      <td>0.430058</td>\n",
       "      <td>0.007411</td>\n",
       "      <td>1.017534</td>\n",
       "    </tr>\n",
       "    <tr>\n",
       "      <th>male</th>\n",
       "      <td>0.418145</td>\n",
       "      <td>-0.004502</td>\n",
       "      <td>0.989347</td>\n",
       "    </tr>\n",
       "  </tbody>\n",
       "</table>\n",
       "</div>"
      ],
      "text/plain": [
       "            mean      diff      risk\n",
       "gender                              \n",
       "female  0.430058  0.007411  1.017534\n",
       "male    0.418145 -0.004502  0.989347"
      ]
     },
     "metadata": {},
     "output_type": "display_data"
    },
    {
     "data": {
      "text/html": [
       "<div>\n",
       "<style scoped>\n",
       "    .dataframe tbody tr th:only-of-type {\n",
       "        vertical-align: middle;\n",
       "    }\n",
       "\n",
       "    .dataframe tbody tr th {\n",
       "        vertical-align: top;\n",
       "    }\n",
       "\n",
       "    .dataframe thead th {\n",
       "        text-align: right;\n",
       "    }\n",
       "</style>\n",
       "<table border=\"1\" class=\"dataframe\">\n",
       "  <thead>\n",
       "    <tr style=\"text-align: right;\">\n",
       "      <th></th>\n",
       "      <th>mean</th>\n",
       "      <th>diff</th>\n",
       "      <th>risk</th>\n",
       "    </tr>\n",
       "    <tr>\n",
       "      <th>driving_experience</th>\n",
       "      <th></th>\n",
       "      <th></th>\n",
       "      <th></th>\n",
       "    </tr>\n",
       "  </thead>\n",
       "  <tbody>\n",
       "    <tr>\n",
       "      <th>0-9y</th>\n",
       "      <td>0.419196</td>\n",
       "      <td>-0.003452</td>\n",
       "      <td>0.991833</td>\n",
       "    </tr>\n",
       "    <tr>\n",
       "      <th>10-19y</th>\n",
       "      <td>0.413131</td>\n",
       "      <td>-0.009517</td>\n",
       "      <td>0.977483</td>\n",
       "    </tr>\n",
       "    <tr>\n",
       "      <th>20-29y</th>\n",
       "      <td>0.431254</td>\n",
       "      <td>0.008606</td>\n",
       "      <td>1.020363</td>\n",
       "    </tr>\n",
       "    <tr>\n",
       "      <th>30y+</th>\n",
       "      <td>0.425928</td>\n",
       "      <td>0.003280</td>\n",
       "      <td>1.007761</td>\n",
       "    </tr>\n",
       "  </tbody>\n",
       "</table>\n",
       "</div>"
      ],
      "text/plain": [
       "                        mean      diff      risk\n",
       "driving_experience                              \n",
       "0-9y                0.419196 -0.003452  0.991833\n",
       "10-19y              0.413131 -0.009517  0.977483\n",
       "20-29y              0.431254  0.008606  1.020363\n",
       "30y+                0.425928  0.003280  1.007761"
      ]
     },
     "metadata": {},
     "output_type": "display_data"
    },
    {
     "data": {
      "text/html": [
       "<div>\n",
       "<style scoped>\n",
       "    .dataframe tbody tr th:only-of-type {\n",
       "        vertical-align: middle;\n",
       "    }\n",
       "\n",
       "    .dataframe tbody tr th {\n",
       "        vertical-align: top;\n",
       "    }\n",
       "\n",
       "    .dataframe thead th {\n",
       "        text-align: right;\n",
       "    }\n",
       "</style>\n",
       "<table border=\"1\" class=\"dataframe\">\n",
       "  <thead>\n",
       "    <tr style=\"text-align: right;\">\n",
       "      <th></th>\n",
       "      <th>mean</th>\n",
       "      <th>diff</th>\n",
       "      <th>risk</th>\n",
       "    </tr>\n",
       "    <tr>\n",
       "      <th>education</th>\n",
       "      <th></th>\n",
       "      <th></th>\n",
       "      <th></th>\n",
       "    </tr>\n",
       "  </thead>\n",
       "  <tbody>\n",
       "    <tr>\n",
       "      <th>high_school</th>\n",
       "      <td>0.423503</td>\n",
       "      <td>0.000855</td>\n",
       "      <td>1.002024</td>\n",
       "    </tr>\n",
       "    <tr>\n",
       "      <th>none</th>\n",
       "      <td>0.424127</td>\n",
       "      <td>0.001479</td>\n",
       "      <td>1.003499</td>\n",
       "    </tr>\n",
       "    <tr>\n",
       "      <th>university</th>\n",
       "      <td>0.420083</td>\n",
       "      <td>-0.002564</td>\n",
       "      <td>0.993933</td>\n",
       "    </tr>\n",
       "  </tbody>\n",
       "</table>\n",
       "</div>"
      ],
      "text/plain": [
       "                 mean      diff      risk\n",
       "education                                \n",
       "high_school  0.423503  0.000855  1.002024\n",
       "none         0.424127  0.001479  1.003499\n",
       "university   0.420083 -0.002564  0.993933"
      ]
     },
     "metadata": {},
     "output_type": "display_data"
    },
    {
     "data": {
      "text/html": [
       "<div>\n",
       "<style scoped>\n",
       "    .dataframe tbody tr th:only-of-type {\n",
       "        vertical-align: middle;\n",
       "    }\n",
       "\n",
       "    .dataframe tbody tr th {\n",
       "        vertical-align: top;\n",
       "    }\n",
       "\n",
       "    .dataframe thead th {\n",
       "        text-align: right;\n",
       "    }\n",
       "</style>\n",
       "<table border=\"1\" class=\"dataframe\">\n",
       "  <thead>\n",
       "    <tr style=\"text-align: right;\">\n",
       "      <th></th>\n",
       "      <th>mean</th>\n",
       "      <th>diff</th>\n",
       "      <th>risk</th>\n",
       "    </tr>\n",
       "    <tr>\n",
       "      <th>income</th>\n",
       "      <th></th>\n",
       "      <th></th>\n",
       "      <th></th>\n",
       "    </tr>\n",
       "  </thead>\n",
       "  <tbody>\n",
       "    <tr>\n",
       "      <th>middle_class</th>\n",
       "      <td>0.420546</td>\n",
       "      <td>-0.002102</td>\n",
       "      <td>0.995026</td>\n",
       "    </tr>\n",
       "    <tr>\n",
       "      <th>poverty</th>\n",
       "      <td>0.426498</td>\n",
       "      <td>0.003850</td>\n",
       "      <td>1.009110</td>\n",
       "    </tr>\n",
       "    <tr>\n",
       "      <th>upper_class</th>\n",
       "      <td>0.423319</td>\n",
       "      <td>0.000672</td>\n",
       "      <td>1.001589</td>\n",
       "    </tr>\n",
       "    <tr>\n",
       "      <th>working_class</th>\n",
       "      <td>0.420218</td>\n",
       "      <td>-0.002430</td>\n",
       "      <td>0.994250</td>\n",
       "    </tr>\n",
       "  </tbody>\n",
       "</table>\n",
       "</div>"
      ],
      "text/plain": [
       "                   mean      diff      risk\n",
       "income                                     \n",
       "middle_class   0.420546 -0.002102  0.995026\n",
       "poverty        0.426498  0.003850  1.009110\n",
       "upper_class    0.423319  0.000672  1.001589\n",
       "working_class  0.420218 -0.002430  0.994250"
      ]
     },
     "metadata": {},
     "output_type": "display_data"
    },
    {
     "data": {
      "text/html": [
       "<div>\n",
       "<style scoped>\n",
       "    .dataframe tbody tr th:only-of-type {\n",
       "        vertical-align: middle;\n",
       "    }\n",
       "\n",
       "    .dataframe tbody tr th {\n",
       "        vertical-align: top;\n",
       "    }\n",
       "\n",
       "    .dataframe thead th {\n",
       "        text-align: right;\n",
       "    }\n",
       "</style>\n",
       "<table border=\"1\" class=\"dataframe\">\n",
       "  <thead>\n",
       "    <tr style=\"text-align: right;\">\n",
       "      <th></th>\n",
       "      <th>mean</th>\n",
       "      <th>diff</th>\n",
       "      <th>risk</th>\n",
       "    </tr>\n",
       "    <tr>\n",
       "      <th>vehicle_ownership</th>\n",
       "      <th></th>\n",
       "      <th></th>\n",
       "      <th></th>\n",
       "    </tr>\n",
       "  </thead>\n",
       "  <tbody>\n",
       "    <tr>\n",
       "      <th>0.0</th>\n",
       "      <td>0.425968</td>\n",
       "      <td>0.003320</td>\n",
       "      <td>1.007856</td>\n",
       "    </tr>\n",
       "    <tr>\n",
       "      <th>1.0</th>\n",
       "      <td>0.421953</td>\n",
       "      <td>-0.000694</td>\n",
       "      <td>0.998357</td>\n",
       "    </tr>\n",
       "  </tbody>\n",
       "</table>\n",
       "</div>"
      ],
      "text/plain": [
       "                       mean      diff      risk\n",
       "vehicle_ownership                              \n",
       "0.0                0.425968  0.003320  1.007856\n",
       "1.0                0.421953 -0.000694  0.998357"
      ]
     },
     "metadata": {},
     "output_type": "display_data"
    },
    {
     "data": {
      "text/html": [
       "<div>\n",
       "<style scoped>\n",
       "    .dataframe tbody tr th:only-of-type {\n",
       "        vertical-align: middle;\n",
       "    }\n",
       "\n",
       "    .dataframe tbody tr th {\n",
       "        vertical-align: top;\n",
       "    }\n",
       "\n",
       "    .dataframe thead th {\n",
       "        text-align: right;\n",
       "    }\n",
       "</style>\n",
       "<table border=\"1\" class=\"dataframe\">\n",
       "  <thead>\n",
       "    <tr style=\"text-align: right;\">\n",
       "      <th></th>\n",
       "      <th>mean</th>\n",
       "      <th>diff</th>\n",
       "      <th>risk</th>\n",
       "    </tr>\n",
       "    <tr>\n",
       "      <th>married</th>\n",
       "      <th></th>\n",
       "      <th></th>\n",
       "      <th></th>\n",
       "    </tr>\n",
       "  </thead>\n",
       "  <tbody>\n",
       "    <tr>\n",
       "      <th>0.0</th>\n",
       "      <td>0.426177</td>\n",
       "      <td>0.003529</td>\n",
       "      <td>1.008350</td>\n",
       "    </tr>\n",
       "    <tr>\n",
       "      <th>1.0</th>\n",
       "      <td>0.420135</td>\n",
       "      <td>-0.002512</td>\n",
       "      <td>0.994056</td>\n",
       "    </tr>\n",
       "  </tbody>\n",
       "</table>\n",
       "</div>"
      ],
      "text/plain": [
       "             mean      diff      risk\n",
       "married                              \n",
       "0.0      0.426177  0.003529  1.008350\n",
       "1.0      0.420135 -0.002512  0.994056"
      ]
     },
     "metadata": {},
     "output_type": "display_data"
    },
    {
     "data": {
      "text/html": [
       "<div>\n",
       "<style scoped>\n",
       "    .dataframe tbody tr th:only-of-type {\n",
       "        vertical-align: middle;\n",
       "    }\n",
       "\n",
       "    .dataframe tbody tr th {\n",
       "        vertical-align: top;\n",
       "    }\n",
       "\n",
       "    .dataframe thead th {\n",
       "        text-align: right;\n",
       "    }\n",
       "</style>\n",
       "<table border=\"1\" class=\"dataframe\">\n",
       "  <thead>\n",
       "    <tr style=\"text-align: right;\">\n",
       "      <th></th>\n",
       "      <th>mean</th>\n",
       "      <th>diff</th>\n",
       "      <th>risk</th>\n",
       "    </tr>\n",
       "    <tr>\n",
       "      <th>children</th>\n",
       "      <th></th>\n",
       "      <th></th>\n",
       "      <th></th>\n",
       "    </tr>\n",
       "  </thead>\n",
       "  <tbody>\n",
       "    <tr>\n",
       "      <th>0.0</th>\n",
       "      <td>0.421687</td>\n",
       "      <td>-0.000961</td>\n",
       "      <td>0.997726</td>\n",
       "    </tr>\n",
       "    <tr>\n",
       "      <th>1.0</th>\n",
       "      <td>0.423535</td>\n",
       "      <td>0.000887</td>\n",
       "      <td>1.002099</td>\n",
       "    </tr>\n",
       "  </tbody>\n",
       "</table>\n",
       "</div>"
      ],
      "text/plain": [
       "              mean      diff      risk\n",
       "children                              \n",
       "0.0       0.421687 -0.000961  0.997726\n",
       "1.0       0.423535  0.000887  1.002099"
      ]
     },
     "metadata": {},
     "output_type": "display_data"
    },
    {
     "data": {
      "text/html": [
       "<div>\n",
       "<style scoped>\n",
       "    .dataframe tbody tr th:only-of-type {\n",
       "        vertical-align: middle;\n",
       "    }\n",
       "\n",
       "    .dataframe tbody tr th {\n",
       "        vertical-align: top;\n",
       "    }\n",
       "\n",
       "    .dataframe thead th {\n",
       "        text-align: right;\n",
       "    }\n",
       "</style>\n",
       "<table border=\"1\" class=\"dataframe\">\n",
       "  <thead>\n",
       "    <tr style=\"text-align: right;\">\n",
       "      <th></th>\n",
       "      <th>mean</th>\n",
       "      <th>diff</th>\n",
       "      <th>risk</th>\n",
       "    </tr>\n",
       "    <tr>\n",
       "      <th>postal_code</th>\n",
       "      <th></th>\n",
       "      <th></th>\n",
       "      <th></th>\n",
       "    </tr>\n",
       "  </thead>\n",
       "  <tbody>\n",
       "    <tr>\n",
       "      <th>10238</th>\n",
       "      <td>0.423874</td>\n",
       "      <td>0.001226</td>\n",
       "      <td>1.002901</td>\n",
       "    </tr>\n",
       "    <tr>\n",
       "      <th>11343</th>\n",
       "      <td>0.000000</td>\n",
       "      <td>-0.422648</td>\n",
       "      <td>0.000000</td>\n",
       "    </tr>\n",
       "    <tr>\n",
       "      <th>11514</th>\n",
       "      <td>1.000000</td>\n",
       "      <td>0.577352</td>\n",
       "      <td>2.366037</td>\n",
       "    </tr>\n",
       "    <tr>\n",
       "      <th>11545</th>\n",
       "      <td>1.000000</td>\n",
       "      <td>0.577352</td>\n",
       "      <td>2.366037</td>\n",
       "    </tr>\n",
       "    <tr>\n",
       "      <th>11626</th>\n",
       "      <td>0.000000</td>\n",
       "      <td>-0.422648</td>\n",
       "      <td>0.000000</td>\n",
       "    </tr>\n",
       "    <tr>\n",
       "      <th>...</th>\n",
       "      <td>...</td>\n",
       "      <td>...</td>\n",
       "      <td>...</td>\n",
       "    </tr>\n",
       "    <tr>\n",
       "      <th>92097</th>\n",
       "      <td>0.471264</td>\n",
       "      <td>0.048617</td>\n",
       "      <td>1.115029</td>\n",
       "    </tr>\n",
       "    <tr>\n",
       "      <th>92098</th>\n",
       "      <td>0.456693</td>\n",
       "      <td>0.034045</td>\n",
       "      <td>1.080552</td>\n",
       "    </tr>\n",
       "    <tr>\n",
       "      <th>92099</th>\n",
       "      <td>0.425806</td>\n",
       "      <td>0.003159</td>\n",
       "      <td>1.007474</td>\n",
       "    </tr>\n",
       "    <tr>\n",
       "      <th>92100</th>\n",
       "      <td>0.398010</td>\n",
       "      <td>-0.024638</td>\n",
       "      <td>0.941706</td>\n",
       "    </tr>\n",
       "    <tr>\n",
       "      <th>92101</th>\n",
       "      <td>0.400000</td>\n",
       "      <td>-0.022648</td>\n",
       "      <td>0.946415</td>\n",
       "    </tr>\n",
       "  </tbody>\n",
       "</table>\n",
       "<p>10937 rows × 3 columns</p>\n",
       "</div>"
      ],
      "text/plain": [
       "                 mean      diff      risk\n",
       "postal_code                              \n",
       "10238        0.423874  0.001226  1.002901\n",
       "11343        0.000000 -0.422648  0.000000\n",
       "11514        1.000000  0.577352  2.366037\n",
       "11545        1.000000  0.577352  2.366037\n",
       "11626        0.000000 -0.422648  0.000000\n",
       "...               ...       ...       ...\n",
       "92097        0.471264  0.048617  1.115029\n",
       "92098        0.456693  0.034045  1.080552\n",
       "92099        0.425806  0.003159  1.007474\n",
       "92100        0.398010 -0.024638  0.941706\n",
       "92101        0.400000 -0.022648  0.946415\n",
       "\n",
       "[10937 rows x 3 columns]"
      ]
     },
     "metadata": {},
     "output_type": "display_data"
    },
    {
     "data": {
      "text/html": [
       "<div>\n",
       "<style scoped>\n",
       "    .dataframe tbody tr th:only-of-type {\n",
       "        vertical-align: middle;\n",
       "    }\n",
       "\n",
       "    .dataframe tbody tr th {\n",
       "        vertical-align: top;\n",
       "    }\n",
       "\n",
       "    .dataframe thead th {\n",
       "        text-align: right;\n",
       "    }\n",
       "</style>\n",
       "<table border=\"1\" class=\"dataframe\">\n",
       "  <thead>\n",
       "    <tr style=\"text-align: right;\">\n",
       "      <th></th>\n",
       "      <th>mean</th>\n",
       "      <th>diff</th>\n",
       "      <th>risk</th>\n",
       "    </tr>\n",
       "    <tr>\n",
       "      <th>speeding_violations</th>\n",
       "      <th></th>\n",
       "      <th></th>\n",
       "      <th></th>\n",
       "    </tr>\n",
       "  </thead>\n",
       "  <tbody>\n",
       "    <tr>\n",
       "      <th>0</th>\n",
       "      <td>0.424360</td>\n",
       "      <td>0.001712</td>\n",
       "      <td>1.004051</td>\n",
       "    </tr>\n",
       "    <tr>\n",
       "      <th>1</th>\n",
       "      <td>0.417829</td>\n",
       "      <td>-0.004819</td>\n",
       "      <td>0.988598</td>\n",
       "    </tr>\n",
       "    <tr>\n",
       "      <th>2</th>\n",
       "      <td>0.419248</td>\n",
       "      <td>-0.003400</td>\n",
       "      <td>0.991956</td>\n",
       "    </tr>\n",
       "    <tr>\n",
       "      <th>3</th>\n",
       "      <td>0.422074</td>\n",
       "      <td>-0.000574</td>\n",
       "      <td>0.998642</td>\n",
       "    </tr>\n",
       "    <tr>\n",
       "      <th>4</th>\n",
       "      <td>0.413507</td>\n",
       "      <td>-0.009141</td>\n",
       "      <td>0.978373</td>\n",
       "    </tr>\n",
       "    <tr>\n",
       "      <th>5</th>\n",
       "      <td>0.422613</td>\n",
       "      <td>-0.000035</td>\n",
       "      <td>0.999917</td>\n",
       "    </tr>\n",
       "    <tr>\n",
       "      <th>6</th>\n",
       "      <td>0.401656</td>\n",
       "      <td>-0.020991</td>\n",
       "      <td>0.950334</td>\n",
       "    </tr>\n",
       "    <tr>\n",
       "      <th>7</th>\n",
       "      <td>0.495726</td>\n",
       "      <td>0.073079</td>\n",
       "      <td>1.172907</td>\n",
       "    </tr>\n",
       "    <tr>\n",
       "      <th>8</th>\n",
       "      <td>0.411538</td>\n",
       "      <td>-0.011109</td>\n",
       "      <td>0.973715</td>\n",
       "    </tr>\n",
       "    <tr>\n",
       "      <th>9</th>\n",
       "      <td>0.424419</td>\n",
       "      <td>0.001771</td>\n",
       "      <td>1.004190</td>\n",
       "    </tr>\n",
       "    <tr>\n",
       "      <th>10</th>\n",
       "      <td>0.458716</td>\n",
       "      <td>0.036068</td>\n",
       "      <td>1.085338</td>\n",
       "    </tr>\n",
       "    <tr>\n",
       "      <th>11</th>\n",
       "      <td>0.436782</td>\n",
       "      <td>0.014134</td>\n",
       "      <td>1.033442</td>\n",
       "    </tr>\n",
       "    <tr>\n",
       "      <th>12</th>\n",
       "      <td>0.428571</td>\n",
       "      <td>0.005924</td>\n",
       "      <td>1.014016</td>\n",
       "    </tr>\n",
       "    <tr>\n",
       "      <th>13</th>\n",
       "      <td>0.465517</td>\n",
       "      <td>0.042870</td>\n",
       "      <td>1.101431</td>\n",
       "    </tr>\n",
       "    <tr>\n",
       "      <th>14</th>\n",
       "      <td>0.400000</td>\n",
       "      <td>-0.022648</td>\n",
       "      <td>0.946415</td>\n",
       "    </tr>\n",
       "    <tr>\n",
       "      <th>15</th>\n",
       "      <td>0.600000</td>\n",
       "      <td>0.177352</td>\n",
       "      <td>1.419622</td>\n",
       "    </tr>\n",
       "    <tr>\n",
       "      <th>16</th>\n",
       "      <td>1.000000</td>\n",
       "      <td>0.577352</td>\n",
       "      <td>2.366037</td>\n",
       "    </tr>\n",
       "    <tr>\n",
       "      <th>17</th>\n",
       "      <td>0.250000</td>\n",
       "      <td>-0.172648</td>\n",
       "      <td>0.591509</td>\n",
       "    </tr>\n",
       "    <tr>\n",
       "      <th>18</th>\n",
       "      <td>0.000000</td>\n",
       "      <td>-0.422648</td>\n",
       "      <td>0.000000</td>\n",
       "    </tr>\n",
       "    <tr>\n",
       "      <th>19</th>\n",
       "      <td>0.000000</td>\n",
       "      <td>-0.422648</td>\n",
       "      <td>0.000000</td>\n",
       "    </tr>\n",
       "    <tr>\n",
       "      <th>20</th>\n",
       "      <td>0.000000</td>\n",
       "      <td>-0.422648</td>\n",
       "      <td>0.000000</td>\n",
       "    </tr>\n",
       "  </tbody>\n",
       "</table>\n",
       "</div>"
      ],
      "text/plain": [
       "                         mean      diff      risk\n",
       "speeding_violations                              \n",
       "0                    0.424360  0.001712  1.004051\n",
       "1                    0.417829 -0.004819  0.988598\n",
       "2                    0.419248 -0.003400  0.991956\n",
       "3                    0.422074 -0.000574  0.998642\n",
       "4                    0.413507 -0.009141  0.978373\n",
       "5                    0.422613 -0.000035  0.999917\n",
       "6                    0.401656 -0.020991  0.950334\n",
       "7                    0.495726  0.073079  1.172907\n",
       "8                    0.411538 -0.011109  0.973715\n",
       "9                    0.424419  0.001771  1.004190\n",
       "10                   0.458716  0.036068  1.085338\n",
       "11                   0.436782  0.014134  1.033442\n",
       "12                   0.428571  0.005924  1.014016\n",
       "13                   0.465517  0.042870  1.101431\n",
       "14                   0.400000 -0.022648  0.946415\n",
       "15                   0.600000  0.177352  1.419622\n",
       "16                   1.000000  0.577352  2.366037\n",
       "17                   0.250000 -0.172648  0.591509\n",
       "18                   0.000000 -0.422648  0.000000\n",
       "19                   0.000000 -0.422648  0.000000\n",
       "20                   0.000000 -0.422648  0.000000"
      ]
     },
     "metadata": {},
     "output_type": "display_data"
    },
    {
     "data": {
      "text/html": [
       "<div>\n",
       "<style scoped>\n",
       "    .dataframe tbody tr th:only-of-type {\n",
       "        vertical-align: middle;\n",
       "    }\n",
       "\n",
       "    .dataframe tbody tr th {\n",
       "        vertical-align: top;\n",
       "    }\n",
       "\n",
       "    .dataframe thead th {\n",
       "        text-align: right;\n",
       "    }\n",
       "</style>\n",
       "<table border=\"1\" class=\"dataframe\">\n",
       "  <thead>\n",
       "    <tr style=\"text-align: right;\">\n",
       "      <th></th>\n",
       "      <th>mean</th>\n",
       "      <th>diff</th>\n",
       "      <th>risk</th>\n",
       "    </tr>\n",
       "    <tr>\n",
       "      <th>duis</th>\n",
       "      <th></th>\n",
       "      <th></th>\n",
       "      <th></th>\n",
       "    </tr>\n",
       "  </thead>\n",
       "  <tbody>\n",
       "    <tr>\n",
       "      <th>0</th>\n",
       "      <td>0.422409</td>\n",
       "      <td>-0.000239</td>\n",
       "      <td>0.999436</td>\n",
       "    </tr>\n",
       "    <tr>\n",
       "      <th>1</th>\n",
       "      <td>0.432070</td>\n",
       "      <td>0.009422</td>\n",
       "      <td>1.022294</td>\n",
       "    </tr>\n",
       "    <tr>\n",
       "      <th>2</th>\n",
       "      <td>0.411813</td>\n",
       "      <td>-0.010835</td>\n",
       "      <td>0.974365</td>\n",
       "    </tr>\n",
       "    <tr>\n",
       "      <th>3</th>\n",
       "      <td>0.427502</td>\n",
       "      <td>0.004855</td>\n",
       "      <td>1.011486</td>\n",
       "    </tr>\n",
       "    <tr>\n",
       "      <th>4</th>\n",
       "      <td>0.425952</td>\n",
       "      <td>0.003304</td>\n",
       "      <td>1.007818</td>\n",
       "    </tr>\n",
       "    <tr>\n",
       "      <th>5</th>\n",
       "      <td>0.422311</td>\n",
       "      <td>-0.000337</td>\n",
       "      <td>0.999203</td>\n",
       "    </tr>\n",
       "    <tr>\n",
       "      <th>6</th>\n",
       "      <td>0.381579</td>\n",
       "      <td>-0.041069</td>\n",
       "      <td>0.902830</td>\n",
       "    </tr>\n",
       "  </tbody>\n",
       "</table>\n",
       "</div>"
      ],
      "text/plain": [
       "          mean      diff      risk\n",
       "duis                              \n",
       "0     0.422409 -0.000239  0.999436\n",
       "1     0.432070  0.009422  1.022294\n",
       "2     0.411813 -0.010835  0.974365\n",
       "3     0.427502  0.004855  1.011486\n",
       "4     0.425952  0.003304  1.007818\n",
       "5     0.422311 -0.000337  0.999203\n",
       "6     0.381579 -0.041069  0.902830"
      ]
     },
     "metadata": {},
     "output_type": "display_data"
    },
    {
     "data": {
      "text/html": [
       "<div>\n",
       "<style scoped>\n",
       "    .dataframe tbody tr th:only-of-type {\n",
       "        vertical-align: middle;\n",
       "    }\n",
       "\n",
       "    .dataframe tbody tr th {\n",
       "        vertical-align: top;\n",
       "    }\n",
       "\n",
       "    .dataframe thead th {\n",
       "        text-align: right;\n",
       "    }\n",
       "</style>\n",
       "<table border=\"1\" class=\"dataframe\">\n",
       "  <thead>\n",
       "    <tr style=\"text-align: right;\">\n",
       "      <th></th>\n",
       "      <th>mean</th>\n",
       "      <th>diff</th>\n",
       "      <th>risk</th>\n",
       "    </tr>\n",
       "    <tr>\n",
       "      <th>past_accidents</th>\n",
       "      <th></th>\n",
       "      <th></th>\n",
       "      <th></th>\n",
       "    </tr>\n",
       "  </thead>\n",
       "  <tbody>\n",
       "    <tr>\n",
       "      <th>0</th>\n",
       "      <td>0.421138</td>\n",
       "      <td>-0.001510</td>\n",
       "      <td>0.996428</td>\n",
       "    </tr>\n",
       "    <tr>\n",
       "      <th>1</th>\n",
       "      <td>0.431551</td>\n",
       "      <td>0.008903</td>\n",
       "      <td>1.021065</td>\n",
       "    </tr>\n",
       "    <tr>\n",
       "      <th>2</th>\n",
       "      <td>0.429811</td>\n",
       "      <td>0.007163</td>\n",
       "      <td>1.016949</td>\n",
       "    </tr>\n",
       "    <tr>\n",
       "      <th>3</th>\n",
       "      <td>0.435106</td>\n",
       "      <td>0.012458</td>\n",
       "      <td>1.029476</td>\n",
       "    </tr>\n",
       "    <tr>\n",
       "      <th>4</th>\n",
       "      <td>0.403189</td>\n",
       "      <td>-0.019459</td>\n",
       "      <td>0.953960</td>\n",
       "    </tr>\n",
       "    <tr>\n",
       "      <th>5</th>\n",
       "      <td>0.406181</td>\n",
       "      <td>-0.016467</td>\n",
       "      <td>0.961039</td>\n",
       "    </tr>\n",
       "    <tr>\n",
       "      <th>6</th>\n",
       "      <td>0.417603</td>\n",
       "      <td>-0.005045</td>\n",
       "      <td>0.988064</td>\n",
       "    </tr>\n",
       "    <tr>\n",
       "      <th>7</th>\n",
       "      <td>0.401937</td>\n",
       "      <td>-0.020711</td>\n",
       "      <td>0.950998</td>\n",
       "    </tr>\n",
       "    <tr>\n",
       "      <th>8</th>\n",
       "      <td>0.405882</td>\n",
       "      <td>-0.016765</td>\n",
       "      <td>0.960333</td>\n",
       "    </tr>\n",
       "    <tr>\n",
       "      <th>9</th>\n",
       "      <td>0.389831</td>\n",
       "      <td>-0.032817</td>\n",
       "      <td>0.922353</td>\n",
       "    </tr>\n",
       "    <tr>\n",
       "      <th>10</th>\n",
       "      <td>0.426752</td>\n",
       "      <td>0.004104</td>\n",
       "      <td>1.009710</td>\n",
       "    </tr>\n",
       "    <tr>\n",
       "      <th>11</th>\n",
       "      <td>0.391304</td>\n",
       "      <td>-0.031343</td>\n",
       "      <td>0.925841</td>\n",
       "    </tr>\n",
       "    <tr>\n",
       "      <th>12</th>\n",
       "      <td>0.440000</td>\n",
       "      <td>0.017352</td>\n",
       "      <td>1.041056</td>\n",
       "    </tr>\n",
       "    <tr>\n",
       "      <th>13</th>\n",
       "      <td>0.360000</td>\n",
       "      <td>-0.062648</td>\n",
       "      <td>0.851773</td>\n",
       "    </tr>\n",
       "    <tr>\n",
       "      <th>14</th>\n",
       "      <td>0.394737</td>\n",
       "      <td>-0.027911</td>\n",
       "      <td>0.933962</td>\n",
       "    </tr>\n",
       "    <tr>\n",
       "      <th>15</th>\n",
       "      <td>0.375000</td>\n",
       "      <td>-0.047648</td>\n",
       "      <td>0.887264</td>\n",
       "    </tr>\n",
       "  </tbody>\n",
       "</table>\n",
       "</div>"
      ],
      "text/plain": [
       "                    mean      diff      risk\n",
       "past_accidents                              \n",
       "0               0.421138 -0.001510  0.996428\n",
       "1               0.431551  0.008903  1.021065\n",
       "2               0.429811  0.007163  1.016949\n",
       "3               0.435106  0.012458  1.029476\n",
       "4               0.403189 -0.019459  0.953960\n",
       "5               0.406181 -0.016467  0.961039\n",
       "6               0.417603 -0.005045  0.988064\n",
       "7               0.401937 -0.020711  0.950998\n",
       "8               0.405882 -0.016765  0.960333\n",
       "9               0.389831 -0.032817  0.922353\n",
       "10              0.426752  0.004104  1.009710\n",
       "11              0.391304 -0.031343  0.925841\n",
       "12              0.440000  0.017352  1.041056\n",
       "13              0.360000 -0.062648  0.851773\n",
       "14              0.394737 -0.027911  0.933962\n",
       "15              0.375000 -0.047648  0.887264"
      ]
     },
     "metadata": {},
     "output_type": "display_data"
    },
    {
     "data": {
      "text/html": [
       "<div>\n",
       "<style scoped>\n",
       "    .dataframe tbody tr th:only-of-type {\n",
       "        vertical-align: middle;\n",
       "    }\n",
       "\n",
       "    .dataframe tbody tr th {\n",
       "        vertical-align: top;\n",
       "    }\n",
       "\n",
       "    .dataframe thead th {\n",
       "        text-align: right;\n",
       "    }\n",
       "</style>\n",
       "<table border=\"1\" class=\"dataframe\">\n",
       "  <thead>\n",
       "    <tr style=\"text-align: right;\">\n",
       "      <th></th>\n",
       "      <th>mean</th>\n",
       "      <th>diff</th>\n",
       "      <th>risk</th>\n",
       "    </tr>\n",
       "    <tr>\n",
       "      <th>vehicle_year</th>\n",
       "      <th></th>\n",
       "      <th></th>\n",
       "      <th></th>\n",
       "    </tr>\n",
       "  </thead>\n",
       "  <tbody>\n",
       "    <tr>\n",
       "      <th>after_2015</th>\n",
       "      <td>0.422182</td>\n",
       "      <td>-0.000466</td>\n",
       "      <td>0.998898</td>\n",
       "    </tr>\n",
       "    <tr>\n",
       "      <th>before_2015</th>\n",
       "      <td>0.423032</td>\n",
       "      <td>0.000384</td>\n",
       "      <td>1.000910</td>\n",
       "    </tr>\n",
       "  </tbody>\n",
       "</table>\n",
       "</div>"
      ],
      "text/plain": [
       "                  mean      diff      risk\n",
       "vehicle_year                              \n",
       "after_2015    0.422182 -0.000466  0.998898\n",
       "before_2015   0.423032  0.000384  1.000910"
      ]
     },
     "metadata": {},
     "output_type": "display_data"
    },
    {
     "data": {
      "text/html": [
       "<div>\n",
       "<style scoped>\n",
       "    .dataframe tbody tr th:only-of-type {\n",
       "        vertical-align: middle;\n",
       "    }\n",
       "\n",
       "    .dataframe tbody tr th {\n",
       "        vertical-align: top;\n",
       "    }\n",
       "\n",
       "    .dataframe thead th {\n",
       "        text-align: right;\n",
       "    }\n",
       "</style>\n",
       "<table border=\"1\" class=\"dataframe\">\n",
       "  <thead>\n",
       "    <tr style=\"text-align: right;\">\n",
       "      <th></th>\n",
       "      <th>mean</th>\n",
       "      <th>diff</th>\n",
       "      <th>risk</th>\n",
       "    </tr>\n",
       "    <tr>\n",
       "      <th>type_of_vehicle</th>\n",
       "      <th></th>\n",
       "      <th></th>\n",
       "      <th></th>\n",
       "    </tr>\n",
       "  </thead>\n",
       "  <tbody>\n",
       "    <tr>\n",
       "      <th>hatchback</th>\n",
       "      <td>0.425703</td>\n",
       "      <td>0.003055</td>\n",
       "      <td>1.007229</td>\n",
       "    </tr>\n",
       "    <tr>\n",
       "      <th>sedan</th>\n",
       "      <td>0.417959</td>\n",
       "      <td>-0.004689</td>\n",
       "      <td>0.988906</td>\n",
       "    </tr>\n",
       "    <tr>\n",
       "      <th>sports_car</th>\n",
       "      <td>0.428047</td>\n",
       "      <td>0.005399</td>\n",
       "      <td>1.012775</td>\n",
       "    </tr>\n",
       "    <tr>\n",
       "      <th>suv</th>\n",
       "      <td>0.415114</td>\n",
       "      <td>-0.007534</td>\n",
       "      <td>0.982175</td>\n",
       "    </tr>\n",
       "  </tbody>\n",
       "</table>\n",
       "</div>"
      ],
      "text/plain": [
       "                     mean      diff      risk\n",
       "type_of_vehicle                              \n",
       "hatchback        0.425703  0.003055  1.007229\n",
       "sedan            0.417959 -0.004689  0.988906\n",
       "sports_car       0.428047  0.005399  1.012775\n",
       "suv              0.415114 -0.007534  0.982175"
      ]
     },
     "metadata": {},
     "output_type": "display_data"
    }
   ],
   "source": [
    "for col in categorical:\n",
    "    df_group = df_train_full.groupby(by=col).outcome.agg(['mean'])\n",
    "    df_group['diff'] = df_group['mean'] - global_mean\n",
    "    df_group['risk'] = df_group['mean'] / global_mean\n",
    "    display(df_group)"
   ]
  },
  {
   "cell_type": "markdown",
   "id": "7b3f9fa9-a56d-4695-9be1-49908f597843",
   "metadata": {},
   "source": [
    "### Mutual Info score:"
   ]
  },
  {
   "cell_type": "code",
   "execution_count": 25,
   "id": "2a9a8c4e-b266-46af-82fd-a23be9d56e6c",
   "metadata": {},
   "outputs": [],
   "source": [
    "from sklearn.metrics import mutual_info_score"
   ]
  },
  {
   "cell_type": "code",
   "execution_count": 26,
   "id": "6d3bac47-b625-4883-b1d3-ca6ce68db6dd",
   "metadata": {
    "tags": []
   },
   "outputs": [
    {
     "data": {
      "text/html": [
       "<div>\n",
       "<style scoped>\n",
       "    .dataframe tbody tr th:only-of-type {\n",
       "        vertical-align: middle;\n",
       "    }\n",
       "\n",
       "    .dataframe tbody tr th {\n",
       "        vertical-align: top;\n",
       "    }\n",
       "\n",
       "    .dataframe thead th {\n",
       "        text-align: right;\n",
       "    }\n",
       "</style>\n",
       "<table border=\"1\" class=\"dataframe\">\n",
       "  <thead>\n",
       "    <tr style=\"text-align: right;\">\n",
       "      <th></th>\n",
       "      <th>MI</th>\n",
       "    </tr>\n",
       "  </thead>\n",
       "  <tbody>\n",
       "    <tr>\n",
       "      <th>postal_code</th>\n",
       "      <td>0.067632</td>\n",
       "    </tr>\n",
       "    <tr>\n",
       "      <th>speeding_violations</th>\n",
       "      <td>0.000159</td>\n",
       "    </tr>\n",
       "    <tr>\n",
       "      <th>driving_experience</th>\n",
       "      <td>0.000108</td>\n",
       "    </tr>\n",
       "    <tr>\n",
       "      <th>past_accidents</th>\n",
       "      <td>0.000070</td>\n",
       "    </tr>\n",
       "    <tr>\n",
       "      <th>gender</th>\n",
       "      <td>0.000068</td>\n",
       "    </tr>\n",
       "  </tbody>\n",
       "</table>\n",
       "</div>"
      ],
      "text/plain": [
       "                           MI\n",
       "postal_code          0.067632\n",
       "speeding_violations  0.000159\n",
       "driving_experience   0.000108\n",
       "past_accidents       0.000070\n",
       "gender               0.000068"
      ]
     },
     "metadata": {},
     "output_type": "display_data"
    },
    {
     "data": {
      "text/html": [
       "<div>\n",
       "<style scoped>\n",
       "    .dataframe tbody tr th:only-of-type {\n",
       "        vertical-align: middle;\n",
       "    }\n",
       "\n",
       "    .dataframe tbody tr th {\n",
       "        vertical-align: top;\n",
       "    }\n",
       "\n",
       "    .dataframe thead th {\n",
       "        text-align: right;\n",
       "    }\n",
       "</style>\n",
       "<table border=\"1\" class=\"dataframe\">\n",
       "  <thead>\n",
       "    <tr style=\"text-align: right;\">\n",
       "      <th></th>\n",
       "      <th>MI</th>\n",
       "    </tr>\n",
       "  </thead>\n",
       "  <tbody>\n",
       "    <tr>\n",
       "      <th>income</th>\n",
       "      <td>8.744343e-06</td>\n",
       "    </tr>\n",
       "    <tr>\n",
       "      <th>education</th>\n",
       "      <td>5.833603e-06</td>\n",
       "    </tr>\n",
       "    <tr>\n",
       "      <th>vehicle_ownership</th>\n",
       "      <td>4.721103e-06</td>\n",
       "    </tr>\n",
       "    <tr>\n",
       "      <th>children</th>\n",
       "      <td>1.747201e-06</td>\n",
       "    </tr>\n",
       "    <tr>\n",
       "      <th>vehicle_year</th>\n",
       "      <td>3.668605e-07</td>\n",
       "    </tr>\n",
       "  </tbody>\n",
       "</table>\n",
       "</div>"
      ],
      "text/plain": [
       "                             MI\n",
       "income             8.744343e-06\n",
       "education          5.833603e-06\n",
       "vehicle_ownership  4.721103e-06\n",
       "children           1.747201e-06\n",
       "vehicle_year       3.668605e-07"
      ]
     },
     "metadata": {},
     "output_type": "display_data"
    }
   ],
   "source": [
    "def calculate_mi(series):\n",
    "    return mutual_info_score(series, df_train_full.outcome)\n",
    "\n",
    "df_mi = df_train_full[categorical].apply(calculate_mi)\n",
    "df_mi = df_mi.sort_values(ascending=False).to_frame(name='MI')\n",
    "\n",
    "display(df_mi.head())\n",
    "display(df_mi.tail())"
   ]
  },
  {
   "cell_type": "markdown",
   "id": "7b50b28c-3543-4ce2-a568-49dabb60a4c1",
   "metadata": {},
   "source": [
    "# Training the model"
   ]
  },
  {
   "cell_type": "code",
   "execution_count": 27,
   "id": "28db164c-f7b8-46f8-8e62-bcb2960cc027",
   "metadata": {},
   "outputs": [],
   "source": [
    "from sklearn.feature_extraction import DictVectorizer\n",
    "from sklearn.linear_model import LogisticRegression\n",
    "\n",
    "from sklearn.metrics import roc_auc_score\n",
    "from sklearn.metrics import roc_curve"
   ]
  },
  {
   "cell_type": "code",
   "execution_count": 28,
   "id": "2c7acb27-2303-4ba1-b581-be441ec0e598",
   "metadata": {},
   "outputs": [],
   "source": [
    "columns = categorical + numerical"
   ]
  },
  {
   "cell_type": "code",
   "execution_count": 29,
   "id": "4efd4870-3e74-4025-8c01-ada3188f294d",
   "metadata": {},
   "outputs": [
    {
     "name": "stdout",
     "output_type": "stream",
     "text": [
      "no\n"
     ]
    }
   ],
   "source": [
    "if('outcome' in columns):\n",
    "    print('yes')\n",
    "else:\n",
    "    print('no')"
   ]
  },
  {
   "cell_type": "code",
   "execution_count": 30,
   "id": "dbc1ef4c-79f9-4155-b1b2-a1341a558877",
   "metadata": {},
   "outputs": [],
   "source": [
    "C=1.0"
   ]
  },
  {
   "cell_type": "code",
   "execution_count": 31,
   "id": "050f8241-77dd-413a-908c-d959084ea87e",
   "metadata": {},
   "outputs": [],
   "source": [
    "train_dicts = train_df[columns].to_dict(orient='records')\n",
    "dv = DictVectorizer(sparse=False)\n",
    "X_train = dv.fit_transform(train_dicts)"
   ]
  },
  {
   "cell_type": "code",
   "execution_count": 38,
   "id": "a3f3aa7e-de0f-4e48-93af-48d5929dbd2d",
   "metadata": {},
   "outputs": [
    {
     "data": {
      "text/plain": [
       "({'age': '26-39',\n",
       "  'gender': 'male',\n",
       "  'driving_experience': '0-9y',\n",
       "  'education': 'none',\n",
       "  'income': 'middle_class',\n",
       "  'vehicle_ownership': 1.0,\n",
       "  'married': 1.0,\n",
       "  'children': 0.0,\n",
       "  'postal_code': 10238,\n",
       "  'speeding_violations': 2,\n",
       "  'duis': 0,\n",
       "  'past_accidents': 0,\n",
       "  'vehicle_year': 'after_2015',\n",
       "  'type_of_vehicle': 'sports_car',\n",
       "  'id': 18647,\n",
       "  'credit_score': 0.7179927843792123,\n",
       "  'annual_mileage': 9000.0},\n",
       " 0)"
      ]
     },
     "execution_count": 38,
     "metadata": {},
     "output_type": "execute_result"
    }
   ],
   "source": [
    "train_dicts[1534], y_train[1534]"
   ]
  },
  {
   "cell_type": "code",
   "execution_count": 32,
   "id": "0adb79c9-3a66-4fd9-b1c4-b14f38cc4ab3",
   "metadata": {},
   "outputs": [
    {
     "data": {
      "text/plain": [
       "LogisticRegression(max_iter=1000, solver='liblinear')"
      ]
     },
     "execution_count": 32,
     "metadata": {},
     "output_type": "execute_result"
    }
   ],
   "source": [
    "model = LogisticRegression(solver='liblinear', C=1.0, max_iter=1000)\n",
    "model.fit(X_train, y_train)"
   ]
  },
  {
   "cell_type": "code",
   "execution_count": 33,
   "id": "4a94c836-b771-444f-8a6e-f9138cb15e42",
   "metadata": {},
   "outputs": [],
   "source": [
    "val_dicts = val_df[columns].to_dict(orient='records')\n",
    "X_val = dv.transform(val_dicts)\n",
    "\n",
    "y_pred = model.predict_proba(X_val)[:, 1]"
   ]
  },
  {
   "cell_type": "code",
   "execution_count": 34,
   "id": "5a4628e4-eac8-4e33-bf8c-e564f52ac925",
   "metadata": {},
   "outputs": [
    {
     "data": {
      "text/plain": [
       "array([0.4138601 , 0.41675677, 0.40503222, ..., 0.44444914, 0.43478886,\n",
       "       0.42250146])"
      ]
     },
     "execution_count": 34,
     "metadata": {},
     "output_type": "execute_result"
    }
   ],
   "source": [
    "y_pred"
   ]
  },
  {
   "cell_type": "code",
   "execution_count": 35,
   "id": "3c0de385-ffd8-4bba-af9c-89189e846863",
   "metadata": {},
   "outputs": [
    {
     "data": {
      "text/plain": [
       "0.5020962233915409"
      ]
     },
     "execution_count": 35,
     "metadata": {},
     "output_type": "execute_result"
    }
   ],
   "source": [
    "roc_auc_score(y_val, y_pred)"
   ]
  },
  {
   "cell_type": "markdown",
   "id": "5f31214e-0818-47b6-aed9-0710254a1230",
   "metadata": {
    "tags": []
   },
   "source": [
    "# Deploying the model\n",
    "1. Saving and loading the model\n",
    "1. Web services: introduction to Flask\n",
    "1. Serving the churn model with Flask\n",
    "1. Python virtual environment: Pipenv\n",
    "1. Environment management: Docker"
   ]
  },
  {
   "cell_type": "markdown",
   "id": "e1e2f55d-b2bf-4548-94d2-e02f9da3cc4c",
   "metadata": {
    "tags": []
   },
   "source": [
    "## Saving and loading the model"
   ]
  },
  {
   "cell_type": "code",
   "execution_count": 39,
   "id": "0f62470e-7022-4698-a696-1dfcca2de748",
   "metadata": {},
   "outputs": [],
   "source": [
    "## Save the model"
   ]
  },
  {
   "cell_type": "code",
   "execution_count": 36,
   "id": "a66dc9b9-282e-41d5-b3aa-67af918874c5",
   "metadata": {},
   "outputs": [],
   "source": [
    "import pickle"
   ]
  },
  {
   "cell_type": "code",
   "execution_count": 37,
   "id": "5bd4161b-7f55-4432-968d-c7d6670e6d07",
   "metadata": {},
   "outputs": [],
   "source": [
    "output_file = f'model_C={C}.bin'"
   ]
  },
  {
   "cell_type": "code",
   "execution_count": 38,
   "id": "c0b43c5a-915c-4940-8af9-074343b0b410",
   "metadata": {},
   "outputs": [],
   "source": [
    "with open(output_file, 'wb') as f_out: \n",
    "    pickle.dump((dv, model), f_out)"
   ]
  },
  {
   "cell_type": "markdown",
   "id": "1bea6d28-eb6d-469a-b4fd-846e39810c91",
   "metadata": {},
   "source": [
    "## Load the model"
   ]
  },
  {
   "cell_type": "code",
   "execution_count": 40,
   "id": "e73b2b0c-2021-437d-aa23-de9c82aa2bc4",
   "metadata": {},
   "outputs": [],
   "source": [
    "#  to chekc if the model is loaded from scratch try to restart the kernel and tehn try running the command."
   ]
  },
  {
   "cell_type": "code",
   "execution_count": 1,
   "id": "c197b7ea-4b42-48c9-9cc5-ee113fec6a81",
   "metadata": {},
   "outputs": [],
   "source": [
    "import pickle"
   ]
  },
  {
   "cell_type": "code",
   "execution_count": 2,
   "id": "5df1f276-4dd8-4b75-8de3-2990424283ea",
   "metadata": {},
   "outputs": [
    {
     "name": "stdout",
     "output_type": "stream",
     "text": [
      " analytics_olympiad_2022.ipynb\t submission.csv   train.csv\n",
      "'model_C=1.0.bin'\t\t test.csv\n"
     ]
    }
   ],
   "source": [
    "!ls"
   ]
  },
  {
   "cell_type": "code",
   "execution_count": 4,
   "id": "e8be774a-36ea-4487-8dd1-d3877195baaf",
   "metadata": {},
   "outputs": [],
   "source": [
    "input_file = 'model_C=1.0.bin'"
   ]
  },
  {
   "cell_type": "code",
   "execution_count": 5,
   "id": "fca76b1a-1359-427d-94be-4735f9f96903",
   "metadata": {},
   "outputs": [],
   "source": [
    "with open(input_file, 'rb') as f_in: \n",
    "    dv, model = pickle.load(f_in)"
   ]
  },
  {
   "cell_type": "code",
   "execution_count": 6,
   "id": "627239c1-ba9d-4d10-9f9c-607aace0dff5",
   "metadata": {},
   "outputs": [
    {
     "data": {
      "text/plain": [
       "LogisticRegression(max_iter=1000, solver='liblinear')"
      ]
     },
     "execution_count": 6,
     "metadata": {},
     "output_type": "execute_result"
    }
   ],
   "source": [
    "model"
   ]
  },
  {
   "cell_type": "code",
   "execution_count": 39,
   "id": "9485b251-9095-45c8-98c7-9511454b785c",
   "metadata": {},
   "outputs": [],
   "source": [
    "customer = {'age': '26-39',\n",
    "  'gender': 'male',\n",
    "  'driving_experience': '0-9y',\n",
    "  'education': 'none',\n",
    "  'income': 'middle_class',\n",
    "  'vehicle_ownership': 1.0,\n",
    "  'married': 1.0,\n",
    "  'children': 0.0,\n",
    "  'postal_code': 10238,\n",
    "  'speeding_violations': 2,\n",
    "  'duis': 0,\n",
    "  'past_accidents': 0,\n",
    "  'vehicle_year': 'after_2015',\n",
    "  'type_of_vehicle': 'sports_car',\n",
    "  'id': 18647,\n",
    "  'credit_score': 0.7179927843792123,\n",
    "  'annual_mileage': 9000.0}"
   ]
  },
  {
   "cell_type": "code",
   "execution_count": 40,
   "id": "dfebfeda-80b8-43f8-bc1b-1138a7f6d9dd",
   "metadata": {},
   "outputs": [],
   "source": [
    "X = dv.transform([customer])"
   ]
  },
  {
   "cell_type": "code",
   "execution_count": 41,
   "id": "31ff4de2-4017-4c66-be46-f56e9c0d0390",
   "metadata": {},
   "outputs": [],
   "source": [
    "y_pred = model.predict_proba(X)[0, 1]"
   ]
  },
  {
   "cell_type": "code",
   "execution_count": 42,
   "id": "b39d018e-c27a-4093-86d7-93fac407c2b3",
   "metadata": {},
   "outputs": [
    {
     "name": "stdout",
     "output_type": "stream",
     "text": [
      "input: {'age': '26-39', 'gender': 'male', 'driving_experience': '0-9y', 'education': 'none', 'income': 'middle_class', 'vehicle_ownership': 1.0, 'married': 1.0, 'children': 0.0, 'postal_code': 10238, 'speeding_violations': 2, 'duis': 0, 'past_accidents': 0, 'vehicle_year': 'after_2015', 'type_of_vehicle': 'sports_car', 'id': 18647, 'credit_score': 0.7179927843792123, 'annual_mileage': 9000.0}\n",
      "output: 0.4484685581863869\n"
     ]
    }
   ],
   "source": [
    "print('input:', customer)\n",
    "print('output:', y_pred)"
   ]
  },
  {
   "cell_type": "code",
   "execution_count": 43,
   "id": "95721dbb-ea14-4892-a0d7-dcfc39e5001c",
   "metadata": {},
   "outputs": [],
   "source": [
    "# till here the model is saved and retrieved from the folder"
   ]
  },
  {
   "cell_type": "markdown",
   "id": "ae44e53e-db87-42ed-a0aa-a2128c6c4cc4",
   "metadata": {},
   "source": [
    "## Web services: introduction to Flask"
   ]
  },
  {
   "cell_type": "code",
   "execution_count": null,
   "id": "7ae09bed-1c61-4965-baba-6a66fb8e3849",
   "metadata": {},
   "outputs": [],
   "source": []
  },
  {
   "cell_type": "code",
   "execution_count": null,
   "id": "9bd42780-ecc2-4c22-b3a4-3805fd03ea44",
   "metadata": {},
   "outputs": [],
   "source": []
  },
  {
   "cell_type": "code",
   "execution_count": null,
   "id": "a6b60871-cf60-4eb4-aa27-48a9fbb11265",
   "metadata": {},
   "outputs": [],
   "source": []
  },
  {
   "cell_type": "code",
   "execution_count": null,
   "id": "eb7c9eb8-28b1-4424-ac2e-508a183e0323",
   "metadata": {},
   "outputs": [],
   "source": []
  },
  {
   "cell_type": "markdown",
   "id": "b0ec2f32-f6b2-4329-8178-267c4512d664",
   "metadata": {},
   "source": [
    "## Serving the churn model with Flask"
   ]
  },
  {
   "cell_type": "markdown",
   "id": "b9227f76-43e7-418d-b246-f0d98b832c7f",
   "metadata": {},
   "source": [
    "## Python virtual environment: Pipenv"
   ]
  },
  {
   "cell_type": "markdown",
   "id": "acb4cdbe-6b0f-4fdb-9352-3cd1924981b3",
   "metadata": {},
   "source": [
    "## Environment management: Docker"
   ]
  },
  {
   "cell_type": "code",
   "execution_count": null,
   "id": "bc4ea407-8338-4299-a39d-4e4ae7b46e98",
   "metadata": {},
   "outputs": [],
   "source": []
  },
  {
   "cell_type": "code",
   "execution_count": null,
   "id": "77283f23-d9ad-484d-9031-f988325ea439",
   "metadata": {},
   "outputs": [],
   "source": []
  },
  {
   "cell_type": "markdown",
   "id": "40b954a1-1c2d-4cf7-a9bb-d8e6670df86f",
   "metadata": {},
   "source": [
    "# Submission"
   ]
  },
  {
   "cell_type": "code",
   "execution_count": 35,
   "id": "d55fb9c5-c7e4-4a36-83ff-e3889d05b2f2",
   "metadata": {},
   "outputs": [],
   "source": [
    "sub_df = pd.read_csv('submission.csv')"
   ]
  },
  {
   "cell_type": "code",
   "execution_count": null,
   "id": "468bec38-61a0-48cd-ae46-099a6956c7d8",
   "metadata": {},
   "outputs": [],
   "source": []
  },
  {
   "cell_type": "code",
   "execution_count": null,
   "id": "6a925b21-644b-4a42-93fc-a9a1a95b7e84",
   "metadata": {},
   "outputs": [],
   "source": []
  },
  {
   "cell_type": "code",
   "execution_count": null,
   "id": "308b6114-e395-41f2-a8c7-d34daeb0542d",
   "metadata": {},
   "outputs": [],
   "source": []
  },
  {
   "cell_type": "code",
   "execution_count": null,
   "id": "7eed8322-f4b1-43f3-aae5-4d120a93835a",
   "metadata": {},
   "outputs": [],
   "source": []
  },
  {
   "cell_type": "code",
   "execution_count": null,
   "id": "b7c8fe37-3a5f-46c6-9a88-ae162e576838",
   "metadata": {},
   "outputs": [],
   "source": []
  },
  {
   "cell_type": "markdown",
   "id": "1ea26ad6-c574-45d5-be98-454424edfa52",
   "metadata": {},
   "source": [
    "# Resouces\n",
    "\n",
    "Projects Details:\n",
    "* This is what you need to do for each project\n",
    "\t* Think of a problem that's interesting for you and find a dataset for that\n",
    "\t* Describe this problem and explain how a model could be used\n",
    "\t* Prepare the data and doing EDA, analyze important features\n",
    "\t* Train multiple models, tune their performance and select the best model\n",
    "\t* Export the notebook into a script\n",
    "\t* Put your model into a web service and deploy it locally with Docker\n",
    "\t* Bonus points for deploying the service to the cloud\n",
    "    * Links to submission:\n",
    "        * [Project instructions](https://github.com/alexeygrigorev/mlbookcamp-code/tree/master/course-zoomcamp/projects)\n",
    "        * [Project Submission link](https://github.com/alexeygrigorev/mlbookcamp-code/blob/master/course-zoomcamp/cohorts/2022/projects.md#midterm-project)\n",
    "\n",
    "\n",
    "\n",
    "\n",
    "* [Pandas profiling for easy EDA](https://pypi.org/project/pandas-profiling/)\n",
    "* [Course notebook for reference](https://github.com/alexeygrigorev/mlbookcamp-code/blob/master/course-zoomcamp/cohorts/2022/04-evaluation/homework_4.ipynb)\n",
    "\n",
    "Future requirements:\n",
    "* How does DictVetorizer works ?"
   ]
  },
  {
   "cell_type": "code",
   "execution_count": null,
   "id": "655f8fd7-998c-4990-b928-86ff56d9c073",
   "metadata": {},
   "outputs": [],
   "source": []
  }
 ],
 "metadata": {
  "kernelspec": {
   "display_name": "ml_zoomcamp_mid_term",
   "language": "python",
   "name": "ml_zoomcamp_mid_term"
  },
  "language_info": {
   "codemirror_mode": {
    "name": "ipython",
    "version": 3
   },
   "file_extension": ".py",
   "mimetype": "text/x-python",
   "name": "python",
   "nbconvert_exporter": "python",
   "pygments_lexer": "ipython3",
   "version": "3.8.13"
  }
 },
 "nbformat": 4,
 "nbformat_minor": 5
}
